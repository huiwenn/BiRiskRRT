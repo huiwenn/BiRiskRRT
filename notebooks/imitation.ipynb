{
 "cells": [
  {
   "cell_type": "code",
   "execution_count": 12,
   "id": "003cc958-a287-42a5-a8a1-faea212297fe",
   "metadata": {
    "tags": []
   },
   "outputs": [],
   "source": [
    "import pickle\n",
    "import numpy as np\n",
    "import pickle\n",
    "import sys\n",
    "import random\n",
    "\n",
    "sys.path.append('../')\n",
    "from riskrrt import RiskRRT\n",
    "from utils import *\n",
    "from biriskrrt import BiRiskRRT, BiRiskRRTPed, TrajReader\n",
    "from param import BiParams\n",
    "from utils import OccupancyGrid, generateSimulationVideo\n",
    "import cv2\n",
    "import time\n",
    "import numpy as np\n",
    "import os\n",
    "import matplotlib.pyplot as plt\n",
    "import matplotlib as mpl\n"
   ]
  },
  {
   "cell_type": "code",
   "execution_count": 2,
   "id": "03fda0b5-660b-4efb-8b69-904ba54ce7d7",
   "metadata": {
    "tags": []
   },
   "outputs": [],
   "source": [
    "with open('../results/imitation_dataset/all_scenes.pkl', 'rb') as f:\n",
    "    scenes = pickle.load(f)"
   ]
  },
  {
   "cell_type": "code",
   "execution_count": 3,
   "id": "fe7a1508-4792-47a1-bb24-efa8cb9cc248",
   "metadata": {
    "tags": []
   },
   "outputs": [
    {
     "data": {
      "text/plain": [
       "900"
      ]
     },
     "execution_count": 3,
     "metadata": {},
     "output_type": "execute_result"
    }
   ],
   "source": [
    "len(scenes)"
   ]
  },
  {
   "cell_type": "code",
   "execution_count": 4,
   "id": "719f4159-f229-4c3b-b366-5f7abf21b81e",
   "metadata": {
    "collapsed": true,
    "jupyter": {
     "outputs_hidden": true
    },
    "tags": []
   },
   "outputs": [
    {
     "name": "stdout",
     "output_type": "stream",
     "text": [
      "2\n",
      "8\n",
      "2\n",
      "2\n",
      "9\n",
      "2\n",
      "2\n",
      "9\n",
      "2\n",
      "2\n",
      "2\n",
      "8\n",
      "2\n",
      "9\n",
      "9\n",
      "8\n",
      "8\n",
      "9\n",
      "8\n",
      "9\n"
     ]
    }
   ],
   "source": [
    "for i in range(20):\n",
    "    print(len(scenes[i]['pedestrians'][0]))"
   ]
  },
  {
   "cell_type": "code",
   "execution_count": 8,
   "id": "1d921bb1-49ea-4ded-a8bc-00415e1c81fd",
   "metadata": {
    "tags": []
   },
   "outputs": [],
   "source": [
    "\n",
    "n_peds = []\n",
    "for i in range(900):\n",
    "    n_peds.append(max(max([[a[0] for a in time] for time in scenes[i]['pedestrians']])))\n"
   ]
  },
  {
   "cell_type": "code",
   "execution_count": 13,
   "id": "c9fc9bd0-c789-4a20-8a05-53bebc4d67ee",
   "metadata": {
    "tags": []
   },
   "outputs": [
    {
     "data": {
      "text/plain": [
       "(19.102222222222224, 31)"
      ]
     },
     "execution_count": 13,
     "metadata": {},
     "output_type": "execute_result"
    }
   ],
   "source": [
    "np.mean(n_peds), np.max(n_peds)"
   ]
  },
  {
   "cell_type": "code",
   "execution_count": 14,
   "id": "4bef3afa-f7d8-4b7a-94fd-27428dea6e75",
   "metadata": {
    "tags": []
   },
   "outputs": [
    {
     "data": {
      "text/plain": [
       "(array([ 16.,  59.,  78., 140., 301., 190.,  18.,  11.,   3.,  84.]),\n",
       " array([ 9. , 11.2, 13.4, 15.6, 17.8, 20. , 22.2, 24.4, 26.6, 28.8, 31. ]),\n",
       " <BarContainer object of 10 artists>)"
      ]
     },
     "execution_count": 14,
     "metadata": {},
     "output_type": "execute_result"
    },
    {
     "data": {
      "image/png": "[encoded data removed]",
      "text/plain": [
       "<Figure size 432x288 with 1 Axes>"
      ]
     },
     "metadata": {
      "needs_background": "light"
     },
     "output_type": "display_data"
    }
   ],
   "source": [
    "# number of total pedestrians\n",
    "plt.hist(n_peds)"
   ]
  },
  {
   "cell_type": "code",
   "execution_count": 16,
   "id": "8c5075ea-0ad9-48c6-a79f-a2cf1ae9b555",
   "metadata": {
    "tags": []
   },
   "outputs": [],
   "source": [
    "\n",
    "n_peds = []\n",
    "for i in range(900):\n",
    "    n_peds.append(max([len(time) for time in scenes[i]['pedestrians']]))\n"
   ]
  },
  {
   "cell_type": "code",
   "execution_count": 17,
   "id": "e392d5e5-c841-45e1-a9e0-588d89a4acdb",
   "metadata": {
    "tags": []
   },
   "outputs": [
    {
     "data": {
      "text/plain": [
       "(10.372222222222222, 12)"
      ]
     },
     "execution_count": 17,
     "metadata": {},
     "output_type": "execute_result"
    }
   ],
   "source": [
    "np.mean(n_peds), np.max(n_peds)"
   ]
  },
  {
   "cell_type": "code",
   "execution_count": 18,
   "id": "341e49e3-7531-48d3-b5ae-64bd769464a1",
   "metadata": {
    "tags": []
   },
   "outputs": [
    {
     "data": {
      "text/plain": [
       "(array([  2.,   0.,   0., 117.,   0.,   8., 326.,   0., 309., 138.]),\n",
       " array([ 6. ,  6.6,  7.2,  7.8,  8.4,  9. ,  9.6, 10.2, 10.8, 11.4, 12. ]),\n",
       " <BarContainer object of 10 artists>)"
      ]
     },
     "execution_count": 18,
     "metadata": {},
     "output_type": "execute_result"
    },
    {
     "data": {
      "image/png": "[encoded data removed]",
      "text/plain": [
       "<Figure size 432x288 with 1 Axes>"
      ]
     },
     "metadata": {
      "needs_background": "light"
     },
     "output_type": "display_data"
    }
   ],
   "source": [
    "# number of max simultaneous pedestrians\n",
    "plt.hist(n_peds)\n"
   ]
  },
  {
   "cell_type": "markdown",
   "id": "047e949a-9bd3-4933-9c87-e191460cea98",
   "metadata": {},
   "source": [
    "we can use 12 agents max."
   ]
  },
  {
   "cell_type": "code",
   "execution_count": 28,
   "id": "a4ac6ea0-e6c6-4083-a3c9-798688f024fd",
   "metadata": {
    "tags": []
   },
   "outputs": [
    {
     "data": {
      "text/plain": [
       "(8, 2)"
      ]
     },
     "execution_count": 28,
     "metadata": {},
     "output_type": "execute_result"
    }
   ],
   "source": [
    "peds = np.array(scenes[1]['pedestrians'][1])[:,1:]\n",
    "peds.shape"
   ]
  },
  {
   "cell_type": "code",
   "execution_count": 29,
   "id": "149c2aca-16b2-411e-99a3-3f4045899150",
   "metadata": {
    "tags": []
   },
   "outputs": [
    {
     "data": {
      "text/plain": [
       "(20, 6)"
      ]
     },
     "execution_count": 29,
     "metadata": {},
     "output_type": "execute_result"
    }
   ],
   "source": [
    "np.pad(peds, ((peds.shape[0], 12-peds.shape[0]),(2,2))).shape"
   ]
  },
  {
   "cell_type": "code",
   "execution_count": null,
   "id": "42762fec-cf41-498a-8009-e162c5ff7d86",
   "metadata": {},
   "outputs": [],
   "source": []
  }
 ],
 "metadata": {
  "kernelspec": {
   "display_name": "py3",
   "language": "python",
   "name": "py3"
  },
  "language_info": {
   "codemirror_mode": {
    "name": "ipython",
    "version": 3
   },
   "file_extension": ".py",
   "mimetype": "text/x-python",
   "name": "python",
   "nbconvert_exporter": "python",
   "pygments_lexer": "ipython3",
   "version": "3.8.12"
  }
 },
 "nbformat": 4,
 "nbformat_minor": 5
}
