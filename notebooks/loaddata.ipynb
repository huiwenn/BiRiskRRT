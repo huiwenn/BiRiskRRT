{
 "cells": [
  {
   "cell_type": "code",
   "execution_count": 15,
   "id": "3c91bb35-1d81-4dd5-824b-641f0d407805",
   "metadata": {
    "tags": []
   },
   "outputs": [],
   "source": [
    "import numpy as np\n",
    "import pickle\n",
    "import sys\n",
    "import random\n",
    "\n",
    "sys.path.append('../')\n",
    "from riskrrt import RiskRRT\n",
    "from utils import *"
   ]
  },
  {
   "cell_type": "code",
   "execution_count": 16,
   "id": "d0c4a8c2-2386-4a66-a5aa-8a23929bbe39",
   "metadata": {
    "tags": []
   },
   "outputs": [
    {
     "name": "stdout",
     "output_type": "stream",
     "text": [
      "bi_traj_B_crowds_zara030.pkl\n"
     ]
    }
   ],
   "source": [
    "!ls ../results/dataset"
   ]
  },
  {
   "cell_type": "code",
   "execution_count": 17,
   "id": "6fbad283-deaf-469b-977a-de7aba435527",
   "metadata": {
    "tags": []
   },
   "outputs": [],
   "source": [
    "with open('../results/dataset/bi_traj_B_crowds_zara030.pkl','rb') as f:\n",
    "    data1 = pickle.load(f)"
   ]
  },
  {
   "cell_type": "code",
   "execution_count": 32,
   "id": "29bb1ffe-61a7-4bfe-bd34-9047b1bcb318",
   "metadata": {
    "tags": []
   },
   "outputs": [],
   "source": [
    "traj = [] # x, y, theta, vel\n",
    "actions = [] # x, y, angular velocity\n",
    "\n",
    "for n in data1:\n",
    "    traj.append( [n.pose.x, n.pose.y, n.pose.theta, n.vel] )\n",
    "    actions.append( [n.vel.linear.x_vel, n.vel.linear.y_vel, n.vel.angular] )\n",
    "    "
   ]
  },
  {
   "cell_type": "code",
   "execution_count": 34,
   "id": "7c4a228a-03df-4fe7-a6af-51d8d4081335",
   "metadata": {
    "tags": []
   },
   "outputs": [],
   "source": [
    "import matplotlib.pyplot as plt"
   ]
  },
  {
   "cell_type": "code",
   "execution_count": 35,
   "id": "51b2b3de-95be-4d16-a8ae-d56979cb954c",
   "metadata": {
    "tags": []
   },
   "outputs": [
    {
     "data": {
      "text/plain": [
       "[<matplotlib.lines.Line2D at 0x13fb853a0>]"
      ]
     },
     "execution_count": 35,
     "metadata": {},
     "output_type": "execute_result"
    },
    {
     "data": {
      "image/png": "[encoded data removed]",
      "text/plain": [
       "<Figure size 432x288 with 1 Axes>"
      ]
     },
     "metadata": {
      "needs_background": "light"
     },
     "output_type": "display_data"
    }
   ],
   "source": [
    "plt.plot([a[0] for a in traj], [a[1] for a in traj])"
   ]
  },
  {
   "cell_type": "code",
   "execution_count": 33,
   "id": "dbd84b38-dd3b-4d32-8a2f-aef3c4c58b91",
   "metadata": {
    "tags": []
   },
   "outputs": [
    {
     "data": {
      "text/plain": [
       "[[0.0, 0.0, 0.0],\n",
       " [0.06666666666666665, 0.0, 0.12],\n",
       " [0.1333333333333333, 0.0, 0.07999999999999999],\n",
       " [0.19999999999999996, 0.0, 0.03999999999999998],\n",
       " [0.2666666666666666, 0.0, 0.15999999999999998],\n",
       " [0.33333333333333326, 0.0, 0.27999999999999997],\n",
       " [0.3999999999999999, 0.0, 0.07999999999999996],\n",
       " [0.46666666666666656, 0.0, -0.04000000000000005],\n",
       " [0.5333333333333332, 0.0, 0.07999999999999996],\n",
       " [0.5999999999999999, 0.0, 0.19999999999999996],\n",
       " [0.6666666666666665, 0.0, 0.23999999999999994],\n",
       " [0.7333333333333332, 0.0, 0.35999999999999993],\n",
       " [0.7999999999999998, 0.0, 0.3999999999999999],\n",
       " [0.8666666666666665, 0.0, 0.1999999999999999],\n",
       " [0.9333333333333331, 0.0, -1.1102230246251565e-16],\n",
       " [0.9999999999999998, 0.0, -0.04000000000000012],\n",
       " [1.0666666666666664, 0.0, -0.16000000000000014],\n",
       " [1.133333333333333, 0.0, -0.04000000000000015],\n",
       " [1.1999999999999997, 0.0, 0.07999999999999985],\n",
       " [1.2666666666666664, 0.0, -0.12000000000000016],\n",
       " [1.333333333333333, 0.0, -1.6653345369377348e-16],\n",
       " [1.133333333333333, 0.0, 0.039999999999999813],\n",
       " [1.1999999999999997, 0.0, 0.1599999999999998],\n",
       " [1.2666666666666664, 0.0, 0.2799999999999998],\n",
       " [1.333333333333333, 0.0, 0.3999999999999998],\n",
       " [1.3999999999999997, 0.0, 0.2799999999999998],\n",
       " [1.4666666666666663, 0.0, 0.0799999999999998],\n",
       " [1.533333333333333, 0.0, 0.1999999999999998],\n",
       " [1.5999999999999996, 0.0, 0.23999999999999977],\n",
       " [1.6666666666666663, 0.0, 0.03999999999999976],\n",
       " [1.4666666666666663, 0.0, 0.15999999999999975],\n",
       " [1.533333333333333, 0.0, 0.27999999999999975],\n",
       " [1.5999999999999996, 0.0, 0.07999999999999974],\n",
       " [1.6666666666666663, 0.0, -0.12000000000000027],\n",
       " [1.733333333333333, 0.0, -0.3200000000000003],\n",
       " [1.7999999999999996, 0.0, -0.2000000000000003],\n",
       " [1.8666666666666663, 0.0, -0.1600000000000003],\n",
       " [1.9333333333333331, 0.0, -0.04000000000000031],\n",
       " [2.0, 0.0, 0.07999999999999968],\n",
       " [2.066666666666667, 0.0, -0.04000000000000033],\n",
       " [2.1333333333333337, 0.0, -3.3306690738754696e-16],\n",
       " [1.9333333333333338, 0.0, 0.11999999999999966],\n",
       " [2.0000000000000004, 0.0, 0.23999999999999966],\n",
       " [2.0666666666666673, 0.0, 0.35999999999999965],\n",
       " [1.8666666666666674, 0.0, 0.4799999999999996],\n",
       " [1.8000000000000007, 0.0, 0.2799999999999996],\n",
       " [1.6000000000000008, 0.0, 0.3999999999999996],\n",
       " [1.6666666666666674, 0.0, 0.5199999999999996],\n",
       " [1.733333333333334, 0.0, 0.31999999999999956],\n",
       " [1.8000000000000007, 0.0, 0.11999999999999955],\n",
       " [1.8666666666666676, 0.0, 0.23999999999999955],\n",
       " [1.6666666666666676, 0.0, 0.35999999999999954],\n",
       " [1.600000000000001, 0.0, 0.15999999999999953],\n",
       " [1.6666666666666676, 0.0, 0.11999999999999952],\n",
       " [1.7333333333333343, 0.0, 0.23999999999999952],\n",
       " [1.5333333333333343, 0.0, 0.35999999999999954],\n",
       " [1.600000000000001, 0.0, 0.15999999999999953],\n",
       " [1.6666666666666676, 0.0, 0.11999999999999952]]"
      ]
     },
     "execution_count": 33,
     "metadata": {},
     "output_type": "execute_result"
    }
   ],
   "source": [
    "# do we consider actions?\n",
    "actions"
   ]
  },
  {
   "cell_type": "code",
   "execution_count": 23,
   "id": "897c9368-7b4d-4eea-8b7e-22a36d018cb1",
   "metadata": {
    "collapsed": true,
    "jupyter": {
     "outputs_hidden": true
    },
    "tags": []
   },
   "outputs": [
    {
     "data": {
      "text/plain": [
       "[[0.0, -11.5, 0.0, <utils.Twist at 0x106191af0>],\n",
       " [0.026656427846249955,\n",
       "  -11.499360122870563,\n",
       "  0.048,\n",
       "  <utils.Twist at 0x12e0fce80>],\n",
       " [0.07987830092278789,\n",
       "  -11.495949264763238,\n",
       "  0.07999999999999999,\n",
       "  <utils.Twist at 0x12e106dc0>],\n",
       " [0.15956789074100963,\n",
       "  -11.488918422535217,\n",
       "  0.09599999999999997,\n",
       "  <utils.Twist at 0x13e274af0>],\n",
       " [0.2653438818767245, -11.475304665066236, 0.16, <utils.Twist at 0x13e279ee0>],\n",
       " [0.3955108308286218, -11.44674302569883, 0.272, <utils.Twist at 0x13e2830d0>],\n",
       " [0.548914503504889, -11.401299338011063, 0.304, <utils.Twist at 0x13e283dc0>],\n",
       " [0.7274613048268734, -11.34684990421853, 0.288, <utils.Twist at 0x13e28b0d0>],\n",
       " [0.9310039307529332,\n",
       "  -11.28299360413797,\n",
       "  0.3199999999999999,\n",
       "  <utils.Twist at 0x13e2905e0>],\n",
       " [1.1555592758305315,\n",
       "  -11.198470331899301,\n",
       "  0.3999999999999999,\n",
       "  <utils.Twist at 0x13e294790>],\n",
       " [1.395817720301835,\n",
       "  -11.083004343779585,\n",
       "  0.49599999999999994,\n",
       "  <utils.Twist at 0x13e299820>],\n",
       " [1.642877840576797,\n",
       "  -10.925342809640615,\n",
       "  0.6399999999999999,\n",
       "  <utils.Twist at 0x13e29eaf0>],\n",
       " [1.8831991396510583,\n",
       "  -10.71456471256636,\n",
       "  0.7999999999999997,\n",
       "  <utils.Twist at 0x13e2a3b80>],\n",
       " [2.114524554315327,\n",
       "  -10.456490596922492,\n",
       "  0.8799999999999996,\n",
       "  <utils.Twist at 0x13e2a79d0>],\n",
       " [2.3523943148161304,\n",
       "  -10.168748082133543,\n",
       "  0.8799999999999996,\n",
       "  <utils.Twist at 0x13e2abb80>],\n",
       " [2.609710210385707,\n",
       "  -9.862504524514742,\n",
       "  0.8639999999999994,\n",
       "  <utils.Twist at 0x13e2b0f70>],\n",
       " [2.896977891563463,\n",
       "  -9.54713237222252,\n",
       "  0.7999999999999993,\n",
       "  <utils.Twist at 0x13e2b9040>],\n",
       " [3.2154063467064313,\n",
       "  -9.22447148852766,\n",
       "  0.7839999999999993,\n",
       "  <utils.Twist at 0x13e2be550>],\n",
       " [3.5498112988223003,\n",
       "  -8.880155256160583,\n",
       "  0.8159999999999992,\n",
       "  <utils.Twist at 0x13e2c3700>],\n",
       " [3.905671556472985,\n",
       "  -8.519565040836081,\n",
       "  0.7679999999999992,\n",
       "  <utils.Twist at 0x13e2c6430>],\n",
       " [4.289299024920536,\n",
       "  -8.14905942698257,\n",
       "  0.7679999999999992,\n",
       "  <utils.Twist at 0x13e2cba60>],\n",
       " [4.612849075962867,\n",
       "  -7.8315344809043275,\n",
       "  0.7839999999999991,\n",
       "  <utils.Twist at 0x13e31aa60>],\n",
       " [4.9416603081627795,\n",
       "  -7.481956819839139,\n",
       "  0.847999999999999,\n",
       "  <utils.Twist at 0x13e33e250>],\n",
       " [5.254855544239767,\n",
       "  -7.0840226309225445,\n",
       "  0.9599999999999987,\n",
       "  <utils.Twist at 0x13e342400>],\n",
       " [5.524551790491457,\n",
       "  -6.6245641649367295,\n",
       "  1.1199999999999988,\n",
       "  <utils.Twist at 0x13e3475b0>],\n",
       " [5.739826539425536,\n",
       "  -6.107912345063466,\n",
       "  1.2319999999999987,\n",
       "  <utils.Twist at 0x13e34c400>],\n",
       " [5.925920823003793,\n",
       "  -5.551569531177361,\n",
       "  1.2639999999999985,\n",
       "  <utils.Twist at 0x13e350490>],\n",
       " [6.087578418849416,\n",
       "  -4.96009339968022,\n",
       "  1.3439999999999983,\n",
       "  <utils.Twist at 0x13e354ac0>],\n",
       " [6.201355655990157,\n",
       "  -4.330537791231307,\n",
       "  1.4399999999999982,\n",
       "  <utils.Twist at 0x13e42fa00>],\n",
       " [6.283013420314412,\n",
       "  -3.6688981819503663,\n",
       "  1.4559999999999982,\n",
       "  <utils.Twist at 0x13e435850>],\n",
       " [6.331523506848796,\n",
       "  -3.0843410111169822,\n",
       "  1.519999999999998,\n",
       "  <utils.Twist at 0x13e439340>],\n",
       " [6.328333602886723,\n",
       "  -2.4713364960387043,\n",
       "  1.631999999999998,\n",
       "  <utils.Twist at 0x13e4cc310>],\n",
       " [6.278974427765255,\n",
       "  -1.8332701041240234,\n",
       "  1.6639999999999977,\n",
       "  <utils.Twist at 0x13e4d0040>],\n",
       " [6.232879887369143,\n",
       "  -1.168263028214216,\n",
       "  1.6159999999999977,\n",
       "  <utils.Twist at 0x13e6147c0>],\n",
       " [6.245902345666772,\n",
       "  -0.47552530430521245,\n",
       "  1.4879999999999975,\n",
       "  <utils.Twist at 0x13e619970>],\n",
       " [6.334070156035801,\n",
       "  0.23886255686712776,\n",
       "  1.4079999999999975,\n",
       "  <utils.Twist at 0x13e61dfa0>],\n",
       " [6.478575306850229,\n",
       "  0.9712825875553149,\n",
       "  1.3439999999999974,\n",
       "  <utils.Twist at 0x13e627070>],\n",
       " [6.6584854481029385,\n",
       "  1.723388981190061,\n",
       "  1.3279999999999972,\n",
       "  <utils.Twist at 0x13e62b340>],\n",
       " [6.838363413084928,\n",
       "  2.5028691324734056,\n",
       "  1.359999999999997,\n",
       "  <utils.Twist at 0x13e62f4f0>],\n",
       " [7.017793470179868,\n",
       "  3.3098189783666703,\n",
       "  1.3439999999999968,\n",
       "  <utils.Twist at 0x13e634340>],\n",
       " [7.209671486184549,\n",
       "  4.1412999491362275,\n",
       "  1.3439999999999965,\n",
       "  <utils.Twist at 0x13e639730>],\n",
       " [7.36541293321475,\n",
       "  4.898712802477265,\n",
       "  1.3919999999999964,\n",
       "  <utils.Twist at 0x13e639e80>],\n",
       " [7.469711838657314,\n",
       "  5.6915749401112805,\n",
       "  1.4879999999999962,\n",
       "  <utils.Twist at 0x13e642bb0>],\n",
       " [7.478628919738619,\n",
       "  6.517479415557834,\n",
       "  1.6319999999999961,\n",
       "  <utils.Twist at 0x13e647d60>],\n",
       " [7.361912512762909,\n",
       "  7.253806666492917,\n",
       "  1.8239999999999958,\n",
       "  <utils.Twist at 0x13e64c3d0>],\n",
       " [7.142930885885713,\n",
       "  7.939303109099482,\n",
       "  1.9359999999999957,\n",
       "  <utils.Twist at 0x13e64f6a0>],\n",
       " [6.867614082818672,\n",
       "  8.516301887199473,\n",
       "  2.0959999999999956,\n",
       "  <utils.Twist at 0x13e6cb100>],\n",
       " [6.475986869832358,\n",
       "  9.05432838205818,\n",
       "  2.3039999999999954,\n",
       "  <utils.Twist at 0x13e6d0df0>],\n",
       " [5.980311231569985,\n",
       "  9.538436634600863,\n",
       "  2.431999999999995,\n",
       "  <utils.Twist at 0x13e6d5b20>],\n",
       " [5.423053084217989,\n",
       "  9.994247814864826,\n",
       "  2.479999999999995,\n",
       "  <utils.Twist at 0x13e7fe220>],\n",
       " [4.812824293429026,\n",
       "  10.424019727606627,\n",
       "  2.5759999999999947,\n",
       "  <utils.Twist at 0x13e802850>],\n",
       " [4.22624049367652,\n",
       "  10.739608734001715,\n",
       "  2.7199999999999944,\n",
       "  <utils.Twist at 0x13e823940>],\n",
       " [3.6343006651819993,\n",
       "  10.98264669069962,\n",
       "  2.783999999999994,\n",
       "  <utils.Twist at 0x13e827c10>],\n",
       " [3.0044464243658506,\n",
       "  11.200918890006712,\n",
       "  2.8319999999999936,\n",
       "  <utils.Twist at 0x13e8305e0>],\n",
       " [2.3349579204762754,\n",
       "  11.38015945888774,\n",
       "  2.9279999999999933,\n",
       "  <utils.Twist at 0x13e8349d0>],\n",
       " [1.728287003421236,\n",
       "  11.46663830089764,\n",
       "  3.071999999999993,\n",
       "  <utils.Twist at 0x13e83a040>],\n",
       " [1.0888483205069732,\n",
       "  11.490687827855302,\n",
       "  3.1359999999999926,\n",
       "  <utils.Twist at 0x13e848c10>],\n",
       " [0.4223585814334446,\n",
       "  11.478418134536323,\n",
       "  -3.0991853071795945,\n",
       "  <utils.Twist at 0x13e84f040>]]"
      ]
     },
     "execution_count": 23,
     "metadata": {},
     "output_type": "execute_result"
    }
   ],
   "source": [
    "traj"
   ]
  },
  {
   "cell_type": "code",
   "execution_count": 30,
   "id": "33ac336d-810c-43fe-b187-ed24d256546b",
   "metadata": {
    "tags": []
   },
   "outputs": [
    {
     "data": {
      "text/plain": [
       "0.0"
      ]
     },
     "execution_count": 30,
     "metadata": {},
     "output_type": "execute_result"
    }
   ],
   "source": [
    "data1[0].vel.linear.x_vel\n",
    "data1[0].vel.linear.y_vel\n",
    "data1[0].vel.angular\n"
   ]
  }
 ],
 "metadata": {
  "kernelspec": {
   "display_name": "py3",
   "language": "python",
   "name": "py3"
  },
  "language_info": {
   "codemirror_mode": {
    "name": "ipython",
    "version": 3
   },
   "file_extension": ".py",
   "mimetype": "text/x-python",
   "name": "python",
   "nbconvert_exporter": "python",
   "pygments_lexer": "ipython3",
   "version": "3.8.12"
  }
 },
 "nbformat": 4,
 "nbformat_minor": 5
}
