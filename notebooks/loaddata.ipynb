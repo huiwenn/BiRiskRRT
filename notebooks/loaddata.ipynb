{
 "cells": [
  {
   "cell_type": "code",
   "execution_count": 2,
   "id": "3c91bb35-1d81-4dd5-824b-641f0d407805",
   "metadata": {
    "tags": []
   },
   "outputs": [],
   "source": [
    "import numpy as np\n",
    "import pickle\n",
    "import sys\n",
    "import random\n",
    "\n",
    "sys.path.append('../')\n",
    "from riskrrt import RiskRRT\n",
    "from utils import *\n",
    "\n",
    "%load_ext autoreload\n",
    "%autoreload 2\n"
   ]
  },
  {
   "cell_type": "code",
   "execution_count": 7,
   "id": "be812458-3948-4b97-9aae-f31045762f94",
   "metadata": {
    "tags": []
   },
   "outputs": [],
   "source": [
    "from os import listdir\n",
    "from os.path import isfile, join\n",
    "mypath = '../results/dataset/'\n",
    "onlyfiles = [f for f in listdir(mypath) if isfile(join(mypath, f))]"
   ]
  },
  {
   "cell_type": "code",
   "execution_count": 9,
   "id": "d0c4a8c2-2386-4a66-a5aa-8a23929bbe39",
   "metadata": {
    "collapsed": true,
    "jupyter": {
     "outputs_hidden": true
    },
    "tags": []
   },
   "outputs": [
    {
     "name": "stdout",
     "output_type": "stream",
     "text": [
      "bi_traj_A_crowds_zara010.pkl  bi_traj_B_crowds_zara0254.pkl\n",
      "bi_traj_A_crowds_zara011.pkl  bi_traj_B_crowds_zara0255.pkl\n",
      "bi_traj_A_crowds_zara0110.pkl bi_traj_B_crowds_zara0256.pkl\n",
      "bi_traj_A_crowds_zara0111.pkl bi_traj_B_crowds_zara0257.pkl\n",
      "bi_traj_A_crowds_zara0112.pkl bi_traj_B_crowds_zara0258.pkl\n",
      "bi_traj_A_crowds_zara0113.pkl bi_traj_B_crowds_zara0259.pkl\n",
      "bi_traj_A_crowds_zara0114.pkl bi_traj_B_crowds_zara026.pkl\n",
      "bi_traj_A_crowds_zara0115.pkl bi_traj_B_crowds_zara0260.pkl\n",
      "bi_traj_A_crowds_zara0116.pkl bi_traj_B_crowds_zara0261.pkl\n",
      "bi_traj_A_crowds_zara0117.pkl bi_traj_B_crowds_zara0262.pkl\n",
      "bi_traj_A_crowds_zara0118.pkl bi_traj_B_crowds_zara0263.pkl\n",
      "bi_traj_A_crowds_zara0119.pkl bi_traj_B_crowds_zara0264.pkl\n",
      "bi_traj_A_crowds_zara012.pkl  bi_traj_B_crowds_zara0265.pkl\n",
      "bi_traj_A_crowds_zara0120.pkl bi_traj_B_crowds_zara0266.pkl\n",
      "bi_traj_A_crowds_zara0121.pkl bi_traj_B_crowds_zara0267.pkl\n",
      "bi_traj_A_crowds_zara0122.pkl bi_traj_B_crowds_zara0268.pkl\n",
      "bi_traj_A_crowds_zara0123.pkl bi_traj_B_crowds_zara0269.pkl\n",
      "bi_traj_A_crowds_zara0124.pkl bi_traj_B_crowds_zara027.pkl\n",
      "bi_traj_A_crowds_zara0125.pkl bi_traj_B_crowds_zara0270.pkl\n",
      "bi_traj_A_crowds_zara0126.pkl bi_traj_B_crowds_zara0271.pkl\n",
      "bi_traj_A_crowds_zara0127.pkl bi_traj_B_crowds_zara0272.pkl\n",
      "bi_traj_A_crowds_zara0128.pkl bi_traj_B_crowds_zara0273.pkl\n",
      "bi_traj_A_crowds_zara0129.pkl bi_traj_B_crowds_zara0274.pkl\n",
      "bi_traj_A_crowds_zara013.pkl  bi_traj_B_crowds_zara0275.pkl\n",
      "bi_traj_A_crowds_zara0130.pkl bi_traj_B_crowds_zara0276.pkl\n",
      "bi_traj_A_crowds_zara0131.pkl bi_traj_B_crowds_zara0277.pkl\n",
      "bi_traj_A_crowds_zara0132.pkl bi_traj_B_crowds_zara0278.pkl\n",
      "bi_traj_A_crowds_zara0133.pkl bi_traj_B_crowds_zara0279.pkl\n",
      "bi_traj_A_crowds_zara0134.pkl bi_traj_B_crowds_zara028.pkl\n",
      "bi_traj_A_crowds_zara0135.pkl bi_traj_B_crowds_zara0280.pkl\n",
      "bi_traj_A_crowds_zara0136.pkl bi_traj_B_crowds_zara0281.pkl\n",
      "bi_traj_A_crowds_zara0137.pkl bi_traj_B_crowds_zara0282.pkl\n",
      "bi_traj_A_crowds_zara0138.pkl bi_traj_B_crowds_zara0283.pkl\n",
      "bi_traj_A_crowds_zara0139.pkl bi_traj_B_crowds_zara0284.pkl\n",
      "bi_traj_A_crowds_zara014.pkl  bi_traj_B_crowds_zara0285.pkl\n",
      "bi_traj_A_crowds_zara0140.pkl bi_traj_B_crowds_zara0286.pkl\n",
      "bi_traj_A_crowds_zara0141.pkl bi_traj_B_crowds_zara0287.pkl\n",
      "bi_traj_A_crowds_zara0142.pkl bi_traj_B_crowds_zara0288.pkl\n",
      "bi_traj_A_crowds_zara0143.pkl bi_traj_B_crowds_zara0289.pkl\n",
      "bi_traj_A_crowds_zara0144.pkl bi_traj_B_crowds_zara029.pkl\n",
      "bi_traj_A_crowds_zara0145.pkl bi_traj_B_crowds_zara0290.pkl\n",
      "bi_traj_A_crowds_zara0146.pkl bi_traj_B_crowds_zara0291.pkl\n",
      "bi_traj_A_crowds_zara0147.pkl bi_traj_B_crowds_zara0292.pkl\n",
      "bi_traj_A_crowds_zara0148.pkl bi_traj_B_crowds_zara0293.pkl\n",
      "bi_traj_A_crowds_zara0149.pkl bi_traj_B_crowds_zara0294.pkl\n",
      "bi_traj_A_crowds_zara015.pkl  bi_traj_B_crowds_zara0295.pkl\n",
      "bi_traj_A_crowds_zara0150.pkl bi_traj_B_crowds_zara0296.pkl\n",
      "bi_traj_A_crowds_zara0151.pkl bi_traj_B_crowds_zara0297.pkl\n",
      "bi_traj_A_crowds_zara0152.pkl bi_traj_B_crowds_zara0298.pkl\n",
      "bi_traj_A_crowds_zara0153.pkl bi_traj_B_crowds_zara0299.pkl\n",
      "bi_traj_A_crowds_zara0154.pkl bi_traj_B_crowds_zara030.pkl\n",
      "bi_traj_A_crowds_zara0155.pkl bi_traj_B_crowds_zara031.pkl\n",
      "bi_traj_A_crowds_zara0156.pkl bi_traj_B_crowds_zara0310.pkl\n",
      "bi_traj_A_crowds_zara0157.pkl bi_traj_B_crowds_zara0311.pkl\n",
      "bi_traj_A_crowds_zara0158.pkl bi_traj_B_crowds_zara0312.pkl\n",
      "bi_traj_A_crowds_zara0159.pkl bi_traj_B_crowds_zara0313.pkl\n",
      "bi_traj_A_crowds_zara016.pkl  bi_traj_B_crowds_zara0314.pkl\n",
      "bi_traj_A_crowds_zara0160.pkl bi_traj_B_crowds_zara0315.pkl\n",
      "bi_traj_A_crowds_zara0161.pkl bi_traj_B_crowds_zara0316.pkl\n",
      "bi_traj_A_crowds_zara0162.pkl bi_traj_B_crowds_zara0317.pkl\n",
      "bi_traj_A_crowds_zara0163.pkl bi_traj_B_crowds_zara0318.pkl\n",
      "bi_traj_A_crowds_zara0164.pkl bi_traj_B_crowds_zara0319.pkl\n",
      "bi_traj_A_crowds_zara0165.pkl bi_traj_B_crowds_zara032.pkl\n",
      "bi_traj_A_crowds_zara0166.pkl bi_traj_B_crowds_zara0320.pkl\n",
      "bi_traj_A_crowds_zara0167.pkl bi_traj_B_crowds_zara0321.pkl\n",
      "bi_traj_A_crowds_zara0168.pkl bi_traj_B_crowds_zara0322.pkl\n",
      "bi_traj_A_crowds_zara0169.pkl bi_traj_B_crowds_zara0323.pkl\n",
      "bi_traj_A_crowds_zara017.pkl  bi_traj_B_crowds_zara0324.pkl\n",
      "bi_traj_A_crowds_zara0170.pkl bi_traj_B_crowds_zara0325.pkl\n",
      "bi_traj_A_crowds_zara0171.pkl bi_traj_B_crowds_zara0326.pkl\n",
      "bi_traj_A_crowds_zara0172.pkl bi_traj_B_crowds_zara0327.pkl\n",
      "bi_traj_A_crowds_zara0173.pkl bi_traj_B_crowds_zara0328.pkl\n",
      "bi_traj_A_crowds_zara0174.pkl bi_traj_B_crowds_zara0329.pkl\n",
      "bi_traj_A_crowds_zara0175.pkl bi_traj_B_crowds_zara033.pkl\n",
      "bi_traj_A_crowds_zara0176.pkl bi_traj_B_crowds_zara0330.pkl\n",
      "bi_traj_A_crowds_zara0177.pkl bi_traj_B_crowds_zara0331.pkl\n",
      "bi_traj_A_crowds_zara0178.pkl bi_traj_B_crowds_zara0332.pkl\n",
      "bi_traj_A_crowds_zara0179.pkl bi_traj_B_crowds_zara0333.pkl\n",
      "bi_traj_A_crowds_zara018.pkl  bi_traj_B_crowds_zara0334.pkl\n",
      "bi_traj_A_crowds_zara0180.pkl bi_traj_B_crowds_zara0335.pkl\n",
      "bi_traj_A_crowds_zara0181.pkl bi_traj_B_crowds_zara0336.pkl\n",
      "bi_traj_A_crowds_zara0182.pkl bi_traj_B_crowds_zara0337.pkl\n",
      "bi_traj_A_crowds_zara0183.pkl bi_traj_B_crowds_zara0338.pkl\n",
      "bi_traj_A_crowds_zara0184.pkl bi_traj_B_crowds_zara0339.pkl\n",
      "bi_traj_A_crowds_zara0185.pkl bi_traj_B_crowds_zara034.pkl\n",
      "bi_traj_A_crowds_zara0186.pkl bi_traj_B_crowds_zara0340.pkl\n",
      "bi_traj_A_crowds_zara0187.pkl bi_traj_B_crowds_zara0341.pkl\n",
      "bi_traj_A_crowds_zara0188.pkl bi_traj_B_crowds_zara0342.pkl\n",
      "bi_traj_A_crowds_zara0189.pkl bi_traj_B_crowds_zara0343.pkl\n",
      "bi_traj_A_crowds_zara019.pkl  bi_traj_B_crowds_zara0344.pkl\n",
      "bi_traj_A_crowds_zara0190.pkl bi_traj_B_crowds_zara0345.pkl\n",
      "bi_traj_A_crowds_zara0191.pkl bi_traj_B_crowds_zara0346.pkl\n",
      "bi_traj_A_crowds_zara0192.pkl bi_traj_B_crowds_zara0347.pkl\n",
      "bi_traj_A_crowds_zara0193.pkl bi_traj_B_crowds_zara0348.pkl\n",
      "bi_traj_A_crowds_zara0194.pkl bi_traj_B_crowds_zara0349.pkl\n",
      "bi_traj_A_crowds_zara0195.pkl bi_traj_B_crowds_zara035.pkl\n",
      "bi_traj_A_crowds_zara0196.pkl bi_traj_B_crowds_zara0350.pkl\n",
      "bi_traj_A_crowds_zara0197.pkl bi_traj_B_crowds_zara0351.pkl\n",
      "bi_traj_A_crowds_zara0198.pkl bi_traj_B_crowds_zara0352.pkl\n",
      "bi_traj_A_crowds_zara0199.pkl bi_traj_B_crowds_zara0353.pkl\n",
      "bi_traj_A_crowds_zara020.pkl  bi_traj_B_crowds_zara0354.pkl\n",
      "bi_traj_A_crowds_zara021.pkl  bi_traj_B_crowds_zara0355.pkl\n",
      "bi_traj_A_crowds_zara0210.pkl bi_traj_B_crowds_zara0356.pkl\n",
      "bi_traj_A_crowds_zara0211.pkl bi_traj_B_crowds_zara0357.pkl\n",
      "bi_traj_A_crowds_zara0212.pkl bi_traj_B_crowds_zara0358.pkl\n",
      "bi_traj_A_crowds_zara0213.pkl bi_traj_B_crowds_zara0359.pkl\n",
      "bi_traj_A_crowds_zara0214.pkl bi_traj_B_crowds_zara036.pkl\n",
      "bi_traj_A_crowds_zara0215.pkl bi_traj_B_crowds_zara0360.pkl\n",
      "bi_traj_A_crowds_zara0216.pkl bi_traj_B_crowds_zara0361.pkl\n",
      "bi_traj_A_crowds_zara0217.pkl bi_traj_B_crowds_zara0362.pkl\n",
      "bi_traj_A_crowds_zara0218.pkl bi_traj_B_crowds_zara0363.pkl\n",
      "bi_traj_A_crowds_zara0219.pkl bi_traj_B_crowds_zara0364.pkl\n",
      "bi_traj_A_crowds_zara022.pkl  bi_traj_B_crowds_zara0365.pkl\n",
      "bi_traj_A_crowds_zara0220.pkl bi_traj_B_crowds_zara0366.pkl\n",
      "bi_traj_A_crowds_zara0221.pkl bi_traj_B_crowds_zara0367.pkl\n",
      "bi_traj_A_crowds_zara0222.pkl bi_traj_B_crowds_zara0368.pkl\n",
      "bi_traj_A_crowds_zara0223.pkl bi_traj_B_crowds_zara0369.pkl\n",
      "bi_traj_A_crowds_zara0224.pkl bi_traj_B_crowds_zara037.pkl\n",
      "bi_traj_A_crowds_zara0225.pkl bi_traj_B_crowds_zara0370.pkl\n",
      "bi_traj_A_crowds_zara0226.pkl bi_traj_B_crowds_zara0371.pkl\n",
      "bi_traj_A_crowds_zara0227.pkl bi_traj_B_crowds_zara0372.pkl\n",
      "bi_traj_A_crowds_zara0228.pkl bi_traj_B_crowds_zara0373.pkl\n",
      "bi_traj_A_crowds_zara0229.pkl bi_traj_B_crowds_zara0374.pkl\n",
      "bi_traj_A_crowds_zara023.pkl  bi_traj_B_crowds_zara0375.pkl\n",
      "bi_traj_A_crowds_zara0230.pkl bi_traj_B_crowds_zara0376.pkl\n",
      "bi_traj_A_crowds_zara0231.pkl bi_traj_B_crowds_zara0377.pkl\n",
      "bi_traj_A_crowds_zara0232.pkl bi_traj_B_crowds_zara0378.pkl\n",
      "bi_traj_A_crowds_zara0233.pkl bi_traj_B_crowds_zara0379.pkl\n",
      "bi_traj_A_crowds_zara0234.pkl bi_traj_B_crowds_zara038.pkl\n",
      "bi_traj_A_crowds_zara0235.pkl bi_traj_B_crowds_zara0380.pkl\n",
      "bi_traj_A_crowds_zara0236.pkl bi_traj_B_crowds_zara0381.pkl\n",
      "bi_traj_A_crowds_zara0237.pkl bi_traj_B_crowds_zara0382.pkl\n",
      "bi_traj_A_crowds_zara0238.pkl bi_traj_B_crowds_zara0383.pkl\n",
      "bi_traj_A_crowds_zara0239.pkl bi_traj_B_crowds_zara0384.pkl\n",
      "bi_traj_A_crowds_zara024.pkl  bi_traj_B_crowds_zara0385.pkl\n",
      "bi_traj_A_crowds_zara0240.pkl bi_traj_B_crowds_zara0386.pkl\n",
      "bi_traj_A_crowds_zara0241.pkl bi_traj_B_crowds_zara0387.pkl\n",
      "bi_traj_A_crowds_zara0242.pkl bi_traj_B_crowds_zara0388.pkl\n",
      "bi_traj_A_crowds_zara0243.pkl bi_traj_B_crowds_zara0389.pkl\n",
      "bi_traj_A_crowds_zara0244.pkl bi_traj_B_crowds_zara039.pkl\n",
      "bi_traj_A_crowds_zara0245.pkl bi_traj_B_crowds_zara0390.pkl\n",
      "bi_traj_A_crowds_zara0246.pkl bi_traj_B_crowds_zara0391.pkl\n",
      "bi_traj_A_crowds_zara0247.pkl bi_traj_B_crowds_zara0392.pkl\n",
      "bi_traj_A_crowds_zara0248.pkl bi_traj_B_crowds_zara0393.pkl\n",
      "bi_traj_A_crowds_zara0249.pkl bi_traj_B_crowds_zara0394.pkl\n",
      "bi_traj_A_crowds_zara025.pkl  bi_traj_B_crowds_zara0395.pkl\n",
      "bi_traj_A_crowds_zara0250.pkl bi_traj_B_crowds_zara0396.pkl\n",
      "bi_traj_A_crowds_zara0251.pkl bi_traj_B_crowds_zara0397.pkl\n",
      "bi_traj_A_crowds_zara0252.pkl bi_traj_B_crowds_zara0398.pkl\n",
      "bi_traj_A_crowds_zara0253.pkl bi_traj_B_crowds_zara0399.pkl\n",
      "bi_traj_A_crowds_zara0254.pkl bi_traj_C_crowds_zara010.pkl\n",
      "bi_traj_A_crowds_zara0255.pkl bi_traj_C_crowds_zara011.pkl\n",
      "bi_traj_A_crowds_zara0256.pkl bi_traj_C_crowds_zara0110.pkl\n",
      "bi_traj_A_crowds_zara0257.pkl bi_traj_C_crowds_zara0111.pkl\n",
      "bi_traj_A_crowds_zara0258.pkl bi_traj_C_crowds_zara0112.pkl\n",
      "bi_traj_A_crowds_zara0259.pkl bi_traj_C_crowds_zara0113.pkl\n",
      "bi_traj_A_crowds_zara026.pkl  bi_traj_C_crowds_zara0114.pkl\n",
      "bi_traj_A_crowds_zara0260.pkl bi_traj_C_crowds_zara0115.pkl\n",
      "bi_traj_A_crowds_zara0261.pkl bi_traj_C_crowds_zara0116.pkl\n",
      "bi_traj_A_crowds_zara0262.pkl bi_traj_C_crowds_zara0117.pkl\n",
      "bi_traj_A_crowds_zara0263.pkl bi_traj_C_crowds_zara0118.pkl\n",
      "bi_traj_A_crowds_zara0264.pkl bi_traj_C_crowds_zara0119.pkl\n",
      "bi_traj_A_crowds_zara0265.pkl bi_traj_C_crowds_zara012.pkl\n",
      "bi_traj_A_crowds_zara0266.pkl bi_traj_C_crowds_zara0120.pkl\n",
      "bi_traj_A_crowds_zara0267.pkl bi_traj_C_crowds_zara0121.pkl\n",
      "bi_traj_A_crowds_zara0268.pkl bi_traj_C_crowds_zara0122.pkl\n",
      "bi_traj_A_crowds_zara0269.pkl bi_traj_C_crowds_zara0123.pkl\n",
      "bi_traj_A_crowds_zara027.pkl  bi_traj_C_crowds_zara0124.pkl\n",
      "bi_traj_A_crowds_zara0270.pkl bi_traj_C_crowds_zara0125.pkl\n",
      "bi_traj_A_crowds_zara0271.pkl bi_traj_C_crowds_zara0126.pkl\n",
      "bi_traj_A_crowds_zara0272.pkl bi_traj_C_crowds_zara0127.pkl\n",
      "bi_traj_A_crowds_zara0273.pkl bi_traj_C_crowds_zara0128.pkl\n",
      "bi_traj_A_crowds_zara0274.pkl bi_traj_C_crowds_zara0129.pkl\n",
      "bi_traj_A_crowds_zara0275.pkl bi_traj_C_crowds_zara013.pkl\n",
      "bi_traj_A_crowds_zara0276.pkl bi_traj_C_crowds_zara0130.pkl\n",
      "bi_traj_A_crowds_zara0277.pkl bi_traj_C_crowds_zara0131.pkl\n",
      "bi_traj_A_crowds_zara0278.pkl bi_traj_C_crowds_zara0132.pkl\n",
      "bi_traj_A_crowds_zara0279.pkl bi_traj_C_crowds_zara0133.pkl\n",
      "bi_traj_A_crowds_zara028.pkl  bi_traj_C_crowds_zara0134.pkl\n",
      "bi_traj_A_crowds_zara0280.pkl bi_traj_C_crowds_zara0135.pkl\n",
      "bi_traj_A_crowds_zara0281.pkl bi_traj_C_crowds_zara0136.pkl\n",
      "bi_traj_A_crowds_zara0282.pkl bi_traj_C_crowds_zara0137.pkl\n",
      "bi_traj_A_crowds_zara0283.pkl bi_traj_C_crowds_zara0138.pkl\n",
      "bi_traj_A_crowds_zara0284.pkl bi_traj_C_crowds_zara0139.pkl\n",
      "bi_traj_A_crowds_zara0285.pkl bi_traj_C_crowds_zara014.pkl\n",
      "bi_traj_A_crowds_zara0286.pkl bi_traj_C_crowds_zara0140.pkl\n",
      "bi_traj_A_crowds_zara0287.pkl bi_traj_C_crowds_zara0141.pkl\n",
      "bi_traj_A_crowds_zara0288.pkl bi_traj_C_crowds_zara0142.pkl\n",
      "bi_traj_A_crowds_zara0289.pkl bi_traj_C_crowds_zara0143.pkl\n",
      "bi_traj_A_crowds_zara029.pkl  bi_traj_C_crowds_zara0144.pkl\n",
      "bi_traj_A_crowds_zara0290.pkl bi_traj_C_crowds_zara0145.pkl\n",
      "bi_traj_A_crowds_zara0291.pkl bi_traj_C_crowds_zara0146.pkl\n",
      "bi_traj_A_crowds_zara0292.pkl bi_traj_C_crowds_zara0147.pkl\n",
      "bi_traj_A_crowds_zara0293.pkl bi_traj_C_crowds_zara0148.pkl\n",
      "bi_traj_A_crowds_zara0294.pkl bi_traj_C_crowds_zara0149.pkl\n",
      "bi_traj_A_crowds_zara0295.pkl bi_traj_C_crowds_zara015.pkl\n",
      "bi_traj_A_crowds_zara0296.pkl bi_traj_C_crowds_zara0150.pkl\n",
      "bi_traj_A_crowds_zara0297.pkl bi_traj_C_crowds_zara0151.pkl\n",
      "bi_traj_A_crowds_zara0298.pkl bi_traj_C_crowds_zara0152.pkl\n",
      "bi_traj_A_crowds_zara0299.pkl bi_traj_C_crowds_zara0153.pkl\n",
      "bi_traj_A_crowds_zara030.pkl  bi_traj_C_crowds_zara0154.pkl\n",
      "bi_traj_A_crowds_zara031.pkl  bi_traj_C_crowds_zara0155.pkl\n",
      "bi_traj_A_crowds_zara0310.pkl bi_traj_C_crowds_zara0156.pkl\n",
      "bi_traj_A_crowds_zara0311.pkl bi_traj_C_crowds_zara0157.pkl\n",
      "bi_traj_A_crowds_zara0312.pkl bi_traj_C_crowds_zara0158.pkl\n",
      "bi_traj_A_crowds_zara0313.pkl bi_traj_C_crowds_zara0159.pkl\n",
      "bi_traj_A_crowds_zara0314.pkl bi_traj_C_crowds_zara016.pkl\n",
      "bi_traj_A_crowds_zara0315.pkl bi_traj_C_crowds_zara0160.pkl\n",
      "bi_traj_A_crowds_zara0316.pkl bi_traj_C_crowds_zara0161.pkl\n",
      "bi_traj_A_crowds_zara0317.pkl bi_traj_C_crowds_zara0162.pkl\n",
      "bi_traj_A_crowds_zara0318.pkl bi_traj_C_crowds_zara0163.pkl\n",
      "bi_traj_A_crowds_zara0319.pkl bi_traj_C_crowds_zara0164.pkl\n",
      "bi_traj_A_crowds_zara032.pkl  bi_traj_C_crowds_zara0165.pkl\n",
      "bi_traj_A_crowds_zara0320.pkl bi_traj_C_crowds_zara0166.pkl\n",
      "bi_traj_A_crowds_zara0321.pkl bi_traj_C_crowds_zara0167.pkl\n",
      "bi_traj_A_crowds_zara0322.pkl bi_traj_C_crowds_zara0168.pkl\n",
      "bi_traj_A_crowds_zara0323.pkl bi_traj_C_crowds_zara0169.pkl\n",
      "bi_traj_A_crowds_zara0324.pkl bi_traj_C_crowds_zara017.pkl\n",
      "bi_traj_A_crowds_zara0325.pkl bi_traj_C_crowds_zara0170.pkl\n",
      "bi_traj_A_crowds_zara0326.pkl bi_traj_C_crowds_zara0171.pkl\n",
      "bi_traj_A_crowds_zara0327.pkl bi_traj_C_crowds_zara0172.pkl\n",
      "bi_traj_A_crowds_zara0328.pkl bi_traj_C_crowds_zara0173.pkl\n",
      "bi_traj_A_crowds_zara0329.pkl bi_traj_C_crowds_zara0174.pkl\n",
      "bi_traj_A_crowds_zara033.pkl  bi_traj_C_crowds_zara0175.pkl\n",
      "bi_traj_A_crowds_zara0330.pkl bi_traj_C_crowds_zara0176.pkl\n",
      "bi_traj_A_crowds_zara0331.pkl bi_traj_C_crowds_zara0177.pkl\n",
      "bi_traj_A_crowds_zara0332.pkl bi_traj_C_crowds_zara0178.pkl\n",
      "bi_traj_A_crowds_zara0333.pkl bi_traj_C_crowds_zara0179.pkl\n",
      "bi_traj_A_crowds_zara0334.pkl bi_traj_C_crowds_zara018.pkl\n",
      "bi_traj_A_crowds_zara0335.pkl bi_traj_C_crowds_zara0180.pkl\n",
      "bi_traj_A_crowds_zara0336.pkl bi_traj_C_crowds_zara0181.pkl\n",
      "bi_traj_A_crowds_zara0337.pkl bi_traj_C_crowds_zara0182.pkl\n",
      "bi_traj_A_crowds_zara0338.pkl bi_traj_C_crowds_zara0183.pkl\n",
      "bi_traj_A_crowds_zara0339.pkl bi_traj_C_crowds_zara0184.pkl\n",
      "bi_traj_A_crowds_zara034.pkl  bi_traj_C_crowds_zara0185.pkl\n",
      "bi_traj_A_crowds_zara0340.pkl bi_traj_C_crowds_zara0186.pkl\n",
      "bi_traj_A_crowds_zara0341.pkl bi_traj_C_crowds_zara0187.pkl\n",
      "bi_traj_A_crowds_zara0342.pkl bi_traj_C_crowds_zara0188.pkl\n",
      "bi_traj_A_crowds_zara0343.pkl bi_traj_C_crowds_zara0189.pkl\n",
      "bi_traj_A_crowds_zara0344.pkl bi_traj_C_crowds_zara019.pkl\n",
      "bi_traj_A_crowds_zara0345.pkl bi_traj_C_crowds_zara0190.pkl\n",
      "bi_traj_A_crowds_zara0346.pkl bi_traj_C_crowds_zara0191.pkl\n",
      "bi_traj_A_crowds_zara0347.pkl bi_traj_C_crowds_zara0192.pkl\n",
      "bi_traj_A_crowds_zara0348.pkl bi_traj_C_crowds_zara0193.pkl\n",
      "bi_traj_A_crowds_zara0349.pkl bi_traj_C_crowds_zara0194.pkl\n",
      "bi_traj_A_crowds_zara035.pkl  bi_traj_C_crowds_zara0195.pkl\n",
      "bi_traj_A_crowds_zara0350.pkl bi_traj_C_crowds_zara0196.pkl\n",
      "bi_traj_A_crowds_zara0351.pkl bi_traj_C_crowds_zara0197.pkl\n",
      "bi_traj_A_crowds_zara0352.pkl bi_traj_C_crowds_zara0198.pkl\n",
      "bi_traj_A_crowds_zara0353.pkl bi_traj_C_crowds_zara0199.pkl\n",
      "bi_traj_A_crowds_zara0354.pkl bi_traj_C_crowds_zara020.pkl\n",
      "bi_traj_A_crowds_zara0355.pkl bi_traj_C_crowds_zara021.pkl\n",
      "bi_traj_A_crowds_zara0356.pkl bi_traj_C_crowds_zara0210.pkl\n",
      "bi_traj_A_crowds_zara0357.pkl bi_traj_C_crowds_zara0211.pkl\n",
      "bi_traj_A_crowds_zara0358.pkl bi_traj_C_crowds_zara0212.pkl\n",
      "bi_traj_A_crowds_zara0359.pkl bi_traj_C_crowds_zara0213.pkl\n",
      "bi_traj_A_crowds_zara036.pkl  bi_traj_C_crowds_zara0214.pkl\n",
      "bi_traj_A_crowds_zara0360.pkl bi_traj_C_crowds_zara0215.pkl\n",
      "bi_traj_A_crowds_zara0361.pkl bi_traj_C_crowds_zara0216.pkl\n",
      "bi_traj_A_crowds_zara0362.pkl bi_traj_C_crowds_zara0217.pkl\n",
      "bi_traj_A_crowds_zara0363.pkl bi_traj_C_crowds_zara0218.pkl\n",
      "bi_traj_A_crowds_zara0364.pkl bi_traj_C_crowds_zara0219.pkl\n",
      "bi_traj_A_crowds_zara0365.pkl bi_traj_C_crowds_zara022.pkl\n",
      "bi_traj_A_crowds_zara0366.pkl bi_traj_C_crowds_zara0220.pkl\n",
      "bi_traj_A_crowds_zara0367.pkl bi_traj_C_crowds_zara0221.pkl\n",
      "bi_traj_A_crowds_zara0368.pkl bi_traj_C_crowds_zara0222.pkl\n",
      "bi_traj_A_crowds_zara0369.pkl bi_traj_C_crowds_zara0223.pkl\n",
      "bi_traj_A_crowds_zara037.pkl  bi_traj_C_crowds_zara0224.pkl\n",
      "bi_traj_A_crowds_zara0370.pkl bi_traj_C_crowds_zara0225.pkl\n",
      "bi_traj_A_crowds_zara0371.pkl bi_traj_C_crowds_zara0226.pkl\n",
      "bi_traj_A_crowds_zara0372.pkl bi_traj_C_crowds_zara0227.pkl\n",
      "bi_traj_A_crowds_zara0373.pkl bi_traj_C_crowds_zara0228.pkl\n",
      "bi_traj_A_crowds_zara0374.pkl bi_traj_C_crowds_zara0229.pkl\n",
      "bi_traj_A_crowds_zara0375.pkl bi_traj_C_crowds_zara023.pkl\n",
      "bi_traj_A_crowds_zara0376.pkl bi_traj_C_crowds_zara0230.pkl\n",
      "bi_traj_A_crowds_zara0377.pkl bi_traj_C_crowds_zara0231.pkl\n",
      "bi_traj_A_crowds_zara0378.pkl bi_traj_C_crowds_zara0232.pkl\n",
      "bi_traj_A_crowds_zara0379.pkl bi_traj_C_crowds_zara0233.pkl\n",
      "bi_traj_A_crowds_zara038.pkl  bi_traj_C_crowds_zara0234.pkl\n",
      "bi_traj_A_crowds_zara0380.pkl bi_traj_C_crowds_zara0235.pkl\n",
      "bi_traj_A_crowds_zara0381.pkl bi_traj_C_crowds_zara0236.pkl\n",
      "bi_traj_A_crowds_zara0382.pkl bi_traj_C_crowds_zara0237.pkl\n",
      "bi_traj_A_crowds_zara0383.pkl bi_traj_C_crowds_zara0238.pkl\n",
      "bi_traj_A_crowds_zara0384.pkl bi_traj_C_crowds_zara0239.pkl\n",
      "bi_traj_A_crowds_zara0385.pkl bi_traj_C_crowds_zara024.pkl\n",
      "bi_traj_A_crowds_zara0386.pkl bi_traj_C_crowds_zara0240.pkl\n",
      "bi_traj_A_crowds_zara0387.pkl bi_traj_C_crowds_zara0241.pkl\n",
      "bi_traj_A_crowds_zara0388.pkl bi_traj_C_crowds_zara0242.pkl\n",
      "bi_traj_A_crowds_zara0389.pkl bi_traj_C_crowds_zara0243.pkl\n",
      "bi_traj_A_crowds_zara039.pkl  bi_traj_C_crowds_zara0244.pkl\n",
      "bi_traj_A_crowds_zara0390.pkl bi_traj_C_crowds_zara0245.pkl\n",
      "bi_traj_A_crowds_zara0391.pkl bi_traj_C_crowds_zara0246.pkl\n",
      "bi_traj_A_crowds_zara0392.pkl bi_traj_C_crowds_zara0247.pkl\n",
      "bi_traj_A_crowds_zara0393.pkl bi_traj_C_crowds_zara0248.pkl\n",
      "bi_traj_A_crowds_zara0394.pkl bi_traj_C_crowds_zara0249.pkl\n",
      "bi_traj_A_crowds_zara0395.pkl bi_traj_C_crowds_zara025.pkl\n",
      "bi_traj_A_crowds_zara0396.pkl bi_traj_C_crowds_zara0250.pkl\n",
      "bi_traj_A_crowds_zara0397.pkl bi_traj_C_crowds_zara0251.pkl\n",
      "bi_traj_A_crowds_zara0398.pkl bi_traj_C_crowds_zara0252.pkl\n",
      "bi_traj_A_crowds_zara0399.pkl bi_traj_C_crowds_zara0253.pkl\n",
      "bi_traj_B_crowds_zara010.pkl  bi_traj_C_crowds_zara0254.pkl\n",
      "bi_traj_B_crowds_zara011.pkl  bi_traj_C_crowds_zara0255.pkl\n",
      "bi_traj_B_crowds_zara0110.pkl bi_traj_C_crowds_zara0256.pkl\n",
      "bi_traj_B_crowds_zara0111.pkl bi_traj_C_crowds_zara0257.pkl\n",
      "bi_traj_B_crowds_zara0112.pkl bi_traj_C_crowds_zara0258.pkl\n",
      "bi_traj_B_crowds_zara0113.pkl bi_traj_C_crowds_zara0259.pkl\n",
      "bi_traj_B_crowds_zara0114.pkl bi_traj_C_crowds_zara026.pkl\n",
      "bi_traj_B_crowds_zara0115.pkl bi_traj_C_crowds_zara0260.pkl\n",
      "bi_traj_B_crowds_zara0116.pkl bi_traj_C_crowds_zara0261.pkl\n",
      "bi_traj_B_crowds_zara0117.pkl bi_traj_C_crowds_zara0262.pkl\n",
      "bi_traj_B_crowds_zara0118.pkl bi_traj_C_crowds_zara0263.pkl\n",
      "bi_traj_B_crowds_zara0119.pkl bi_traj_C_crowds_zara0264.pkl\n",
      "bi_traj_B_crowds_zara012.pkl  bi_traj_C_crowds_zara0265.pkl\n",
      "bi_traj_B_crowds_zara0120.pkl bi_traj_C_crowds_zara0266.pkl\n",
      "bi_traj_B_crowds_zara0121.pkl bi_traj_C_crowds_zara0267.pkl\n",
      "bi_traj_B_crowds_zara0122.pkl bi_traj_C_crowds_zara0268.pkl\n",
      "bi_traj_B_crowds_zara0123.pkl bi_traj_C_crowds_zara0269.pkl\n",
      "bi_traj_B_crowds_zara0124.pkl bi_traj_C_crowds_zara027.pkl\n",
      "bi_traj_B_crowds_zara0125.pkl bi_traj_C_crowds_zara0270.pkl\n",
      "bi_traj_B_crowds_zara0126.pkl bi_traj_C_crowds_zara0271.pkl\n",
      "bi_traj_B_crowds_zara0127.pkl bi_traj_C_crowds_zara0272.pkl\n",
      "bi_traj_B_crowds_zara0128.pkl bi_traj_C_crowds_zara0273.pkl\n",
      "bi_traj_B_crowds_zara0129.pkl bi_traj_C_crowds_zara0274.pkl\n",
      "bi_traj_B_crowds_zara013.pkl  bi_traj_C_crowds_zara0275.pkl\n",
      "bi_traj_B_crowds_zara0130.pkl bi_traj_C_crowds_zara0276.pkl\n",
      "bi_traj_B_crowds_zara0131.pkl bi_traj_C_crowds_zara0277.pkl\n",
      "bi_traj_B_crowds_zara0132.pkl bi_traj_C_crowds_zara0278.pkl\n",
      "bi_traj_B_crowds_zara0133.pkl bi_traj_C_crowds_zara0279.pkl\n",
      "bi_traj_B_crowds_zara0134.pkl bi_traj_C_crowds_zara028.pkl\n",
      "bi_traj_B_crowds_zara0135.pkl bi_traj_C_crowds_zara0280.pkl\n",
      "bi_traj_B_crowds_zara0136.pkl bi_traj_C_crowds_zara0281.pkl\n",
      "bi_traj_B_crowds_zara0137.pkl bi_traj_C_crowds_zara0282.pkl\n",
      "bi_traj_B_crowds_zara0138.pkl bi_traj_C_crowds_zara0283.pkl\n",
      "bi_traj_B_crowds_zara0139.pkl bi_traj_C_crowds_zara0284.pkl\n",
      "bi_traj_B_crowds_zara014.pkl  bi_traj_C_crowds_zara0285.pkl\n",
      "bi_traj_B_crowds_zara0140.pkl bi_traj_C_crowds_zara0286.pkl\n",
      "bi_traj_B_crowds_zara0141.pkl bi_traj_C_crowds_zara0287.pkl\n",
      "bi_traj_B_crowds_zara0142.pkl bi_traj_C_crowds_zara0288.pkl\n",
      "bi_traj_B_crowds_zara0143.pkl bi_traj_C_crowds_zara0289.pkl\n",
      "bi_traj_B_crowds_zara0144.pkl bi_traj_C_crowds_zara029.pkl\n",
      "bi_traj_B_crowds_zara0145.pkl bi_traj_C_crowds_zara0290.pkl\n",
      "bi_traj_B_crowds_zara0146.pkl bi_traj_C_crowds_zara0291.pkl\n",
      "bi_traj_B_crowds_zara0147.pkl bi_traj_C_crowds_zara0292.pkl\n",
      "bi_traj_B_crowds_zara0148.pkl bi_traj_C_crowds_zara0293.pkl\n",
      "bi_traj_B_crowds_zara0149.pkl bi_traj_C_crowds_zara0294.pkl\n",
      "bi_traj_B_crowds_zara015.pkl  bi_traj_C_crowds_zara0295.pkl\n",
      "bi_traj_B_crowds_zara0150.pkl bi_traj_C_crowds_zara0296.pkl\n",
      "bi_traj_B_crowds_zara0151.pkl bi_traj_C_crowds_zara0297.pkl\n",
      "bi_traj_B_crowds_zara0152.pkl bi_traj_C_crowds_zara0298.pkl\n",
      "bi_traj_B_crowds_zara0153.pkl bi_traj_C_crowds_zara0299.pkl\n",
      "bi_traj_B_crowds_zara0154.pkl bi_traj_C_crowds_zara030.pkl\n",
      "bi_traj_B_crowds_zara0155.pkl bi_traj_C_crowds_zara031.pkl\n",
      "bi_traj_B_crowds_zara0156.pkl bi_traj_C_crowds_zara0310.pkl\n",
      "bi_traj_B_crowds_zara0157.pkl bi_traj_C_crowds_zara0311.pkl\n",
      "bi_traj_B_crowds_zara0158.pkl bi_traj_C_crowds_zara0312.pkl\n",
      "bi_traj_B_crowds_zara0159.pkl bi_traj_C_crowds_zara0313.pkl\n",
      "bi_traj_B_crowds_zara016.pkl  bi_traj_C_crowds_zara0314.pkl\n",
      "bi_traj_B_crowds_zara0160.pkl bi_traj_C_crowds_zara0315.pkl\n",
      "bi_traj_B_crowds_zara0161.pkl bi_traj_C_crowds_zara0316.pkl\n",
      "bi_traj_B_crowds_zara0162.pkl bi_traj_C_crowds_zara0317.pkl\n",
      "bi_traj_B_crowds_zara0163.pkl bi_traj_C_crowds_zara0318.pkl\n",
      "bi_traj_B_crowds_zara0164.pkl bi_traj_C_crowds_zara0319.pkl\n",
      "bi_traj_B_crowds_zara0165.pkl bi_traj_C_crowds_zara032.pkl\n",
      "bi_traj_B_crowds_zara0166.pkl bi_traj_C_crowds_zara0320.pkl\n",
      "bi_traj_B_crowds_zara0167.pkl bi_traj_C_crowds_zara0321.pkl\n",
      "bi_traj_B_crowds_zara0168.pkl bi_traj_C_crowds_zara0322.pkl\n",
      "bi_traj_B_crowds_zara0169.pkl bi_traj_C_crowds_zara0323.pkl\n",
      "bi_traj_B_crowds_zara017.pkl  bi_traj_C_crowds_zara0324.pkl\n",
      "bi_traj_B_crowds_zara0170.pkl bi_traj_C_crowds_zara0325.pkl\n",
      "bi_traj_B_crowds_zara0171.pkl bi_traj_C_crowds_zara0326.pkl\n",
      "bi_traj_B_crowds_zara0172.pkl bi_traj_C_crowds_zara0327.pkl\n",
      "bi_traj_B_crowds_zara0173.pkl bi_traj_C_crowds_zara0328.pkl\n",
      "bi_traj_B_crowds_zara0174.pkl bi_traj_C_crowds_zara0329.pkl\n",
      "bi_traj_B_crowds_zara0175.pkl bi_traj_C_crowds_zara033.pkl\n",
      "bi_traj_B_crowds_zara0176.pkl bi_traj_C_crowds_zara0330.pkl\n",
      "bi_traj_B_crowds_zara0177.pkl bi_traj_C_crowds_zara0331.pkl\n",
      "bi_traj_B_crowds_zara0178.pkl bi_traj_C_crowds_zara0332.pkl\n",
      "bi_traj_B_crowds_zara0179.pkl bi_traj_C_crowds_zara0333.pkl\n",
      "bi_traj_B_crowds_zara018.pkl  bi_traj_C_crowds_zara0334.pkl\n",
      "bi_traj_B_crowds_zara0180.pkl bi_traj_C_crowds_zara0335.pkl\n",
      "bi_traj_B_crowds_zara0181.pkl bi_traj_C_crowds_zara0336.pkl\n",
      "bi_traj_B_crowds_zara0182.pkl bi_traj_C_crowds_zara0337.pkl\n",
      "bi_traj_B_crowds_zara0183.pkl bi_traj_C_crowds_zara0338.pkl\n",
      "bi_traj_B_crowds_zara0184.pkl bi_traj_C_crowds_zara0339.pkl\n",
      "bi_traj_B_crowds_zara0185.pkl bi_traj_C_crowds_zara034.pkl\n",
      "bi_traj_B_crowds_zara0186.pkl bi_traj_C_crowds_zara0340.pkl\n",
      "bi_traj_B_crowds_zara0187.pkl bi_traj_C_crowds_zara0341.pkl\n",
      "bi_traj_B_crowds_zara0188.pkl bi_traj_C_crowds_zara0342.pkl\n",
      "bi_traj_B_crowds_zara0189.pkl bi_traj_C_crowds_zara0343.pkl\n",
      "bi_traj_B_crowds_zara019.pkl  bi_traj_C_crowds_zara0344.pkl\n",
      "bi_traj_B_crowds_zara0190.pkl bi_traj_C_crowds_zara0345.pkl\n",
      "bi_traj_B_crowds_zara0191.pkl bi_traj_C_crowds_zara0346.pkl\n",
      "bi_traj_B_crowds_zara0192.pkl bi_traj_C_crowds_zara0347.pkl\n",
      "bi_traj_B_crowds_zara0193.pkl bi_traj_C_crowds_zara0348.pkl\n",
      "bi_traj_B_crowds_zara0194.pkl bi_traj_C_crowds_zara0349.pkl\n",
      "bi_traj_B_crowds_zara0195.pkl bi_traj_C_crowds_zara035.pkl\n",
      "bi_traj_B_crowds_zara0196.pkl bi_traj_C_crowds_zara0350.pkl\n",
      "bi_traj_B_crowds_zara0197.pkl bi_traj_C_crowds_zara0351.pkl\n",
      "bi_traj_B_crowds_zara0198.pkl bi_traj_C_crowds_zara0352.pkl\n",
      "bi_traj_B_crowds_zara0199.pkl bi_traj_C_crowds_zara0353.pkl\n",
      "bi_traj_B_crowds_zara020.pkl  bi_traj_C_crowds_zara0354.pkl\n",
      "bi_traj_B_crowds_zara021.pkl  bi_traj_C_crowds_zara0355.pkl\n",
      "bi_traj_B_crowds_zara0210.pkl bi_traj_C_crowds_zara0356.pkl\n",
      "bi_traj_B_crowds_zara0211.pkl bi_traj_C_crowds_zara0357.pkl\n",
      "bi_traj_B_crowds_zara0212.pkl bi_traj_C_crowds_zara0358.pkl\n",
      "bi_traj_B_crowds_zara0213.pkl bi_traj_C_crowds_zara0359.pkl\n",
      "bi_traj_B_crowds_zara0214.pkl bi_traj_C_crowds_zara036.pkl\n",
      "bi_traj_B_crowds_zara0215.pkl bi_traj_C_crowds_zara0360.pkl\n",
      "bi_traj_B_crowds_zara0216.pkl bi_traj_C_crowds_zara0361.pkl\n",
      "bi_traj_B_crowds_zara0217.pkl bi_traj_C_crowds_zara0362.pkl\n",
      "bi_traj_B_crowds_zara0218.pkl bi_traj_C_crowds_zara0363.pkl\n",
      "bi_traj_B_crowds_zara0219.pkl bi_traj_C_crowds_zara0364.pkl\n",
      "bi_traj_B_crowds_zara022.pkl  bi_traj_C_crowds_zara0365.pkl\n",
      "bi_traj_B_crowds_zara0220.pkl bi_traj_C_crowds_zara0366.pkl\n",
      "bi_traj_B_crowds_zara0221.pkl bi_traj_C_crowds_zara0367.pkl\n",
      "bi_traj_B_crowds_zara0222.pkl bi_traj_C_crowds_zara0368.pkl\n",
      "bi_traj_B_crowds_zara0223.pkl bi_traj_C_crowds_zara0369.pkl\n",
      "bi_traj_B_crowds_zara0224.pkl bi_traj_C_crowds_zara037.pkl\n",
      "bi_traj_B_crowds_zara0225.pkl bi_traj_C_crowds_zara0370.pkl\n",
      "bi_traj_B_crowds_zara0226.pkl bi_traj_C_crowds_zara0371.pkl\n",
      "bi_traj_B_crowds_zara0227.pkl bi_traj_C_crowds_zara0372.pkl\n",
      "bi_traj_B_crowds_zara0228.pkl bi_traj_C_crowds_zara0373.pkl\n",
      "bi_traj_B_crowds_zara0229.pkl bi_traj_C_crowds_zara0374.pkl\n",
      "bi_traj_B_crowds_zara023.pkl  bi_traj_C_crowds_zara0375.pkl\n",
      "bi_traj_B_crowds_zara0230.pkl bi_traj_C_crowds_zara0376.pkl\n",
      "bi_traj_B_crowds_zara0231.pkl bi_traj_C_crowds_zara0377.pkl\n",
      "bi_traj_B_crowds_zara0232.pkl bi_traj_C_crowds_zara0378.pkl\n",
      "bi_traj_B_crowds_zara0233.pkl bi_traj_C_crowds_zara0379.pkl\n",
      "bi_traj_B_crowds_zara0234.pkl bi_traj_C_crowds_zara038.pkl\n",
      "bi_traj_B_crowds_zara0235.pkl bi_traj_C_crowds_zara0380.pkl\n",
      "bi_traj_B_crowds_zara0236.pkl bi_traj_C_crowds_zara0381.pkl\n",
      "bi_traj_B_crowds_zara0237.pkl bi_traj_C_crowds_zara0382.pkl\n",
      "bi_traj_B_crowds_zara0238.pkl bi_traj_C_crowds_zara0383.pkl\n",
      "bi_traj_B_crowds_zara0239.pkl bi_traj_C_crowds_zara0384.pkl\n",
      "bi_traj_B_crowds_zara024.pkl  bi_traj_C_crowds_zara0385.pkl\n",
      "bi_traj_B_crowds_zara0240.pkl bi_traj_C_crowds_zara0386.pkl\n",
      "bi_traj_B_crowds_zara0241.pkl bi_traj_C_crowds_zara0387.pkl\n",
      "bi_traj_B_crowds_zara0242.pkl bi_traj_C_crowds_zara0388.pkl\n",
      "bi_traj_B_crowds_zara0243.pkl bi_traj_C_crowds_zara0389.pkl\n",
      "bi_traj_B_crowds_zara0244.pkl bi_traj_C_crowds_zara039.pkl\n",
      "bi_traj_B_crowds_zara0245.pkl bi_traj_C_crowds_zara0390.pkl\n",
      "bi_traj_B_crowds_zara0246.pkl bi_traj_C_crowds_zara0391.pkl\n",
      "bi_traj_B_crowds_zara0247.pkl bi_traj_C_crowds_zara0392.pkl\n",
      "bi_traj_B_crowds_zara0248.pkl bi_traj_C_crowds_zara0393.pkl\n",
      "bi_traj_B_crowds_zara0249.pkl bi_traj_C_crowds_zara0394.pkl\n",
      "bi_traj_B_crowds_zara025.pkl  bi_traj_C_crowds_zara0395.pkl\n",
      "bi_traj_B_crowds_zara0250.pkl bi_traj_C_crowds_zara0396.pkl\n",
      "bi_traj_B_crowds_zara0251.pkl bi_traj_C_crowds_zara0397.pkl\n",
      "bi_traj_B_crowds_zara0252.pkl bi_traj_C_crowds_zara0398.pkl\n",
      "bi_traj_B_crowds_zara0253.pkl bi_traj_C_crowds_zara0399.pkl\n"
     ]
    }
   ],
   "source": [
    "!ls ../results/dataset"
   ]
  },
  {
   "cell_type": "code",
   "execution_count": 10,
   "id": "6fbad283-deaf-469b-977a-de7aba435527",
   "metadata": {
    "tags": []
   },
   "outputs": [],
   "source": [
    "trajfile = '../results/dataset/bi_traj_B_crowds_zara030.pkl'\n",
    "with open(trajfile,'rb') as f:\n",
    "    data1 = pickle.load(f)"
   ]
  },
  {
   "cell_type": "code",
   "execution_count": 11,
   "id": "a9e40448-53a5-42bf-9d71-ae4c28c79bdf",
   "metadata": {
    "tags": []
   },
   "outputs": [
    {
     "data": {
      "text/plain": [
       "'crowds_zara03'"
      ]
     },
     "execution_count": 11,
     "metadata": {},
     "output_type": "execute_result"
    }
   ],
   "source": [
    "\n",
    "data_name = 'crowds_'+trajfile.split('/')[-1].split('_')[-1][:6]\n",
    "data_name"
   ]
  },
  {
   "cell_type": "code",
   "execution_count": 12,
   "id": "c0465420-7961-47d0-8b20-e6b656af3037",
   "metadata": {
    "tags": []
   },
   "outputs": [
    {
     "name": "stdout",
     "output_type": "stream",
     "text": [
      "crowds_zara03\n"
     ]
    }
   ],
   "source": [
    "timeStep = 0.4\n",
    "data_path = '/Users/sophiasun/Desktop/2cool4school/phd/robotics_project/BiRiskRRT/data/' + data_name\n",
    "\n",
    "trajReader = TrajReader(data_name, timeStep, full_traj_path = data_path)"
   ]
  },
  {
   "cell_type": "code",
   "execution_count": 13,
   "id": "29bb1ffe-61a7-4bfe-bd34-9047b1bcb318",
   "metadata": {
    "tags": []
   },
   "outputs": [],
   "source": [
    "\n",
    "traj = [] # x, y, theta, vel\n",
    "actions = [] # x, y, angular velocity\n",
    "pedestrians = []\n",
    "\n",
    "for n in data1:\n",
    "    traj.append( [n.pose.x, n.pose.y, n.pose.theta, n.vel] )\n",
    "    actions.append( [n.vel.linear.x_vel, n.vel.linear.y_vel, n.vel.angular] )\n",
    "    \n",
    "    ped_poses = trajReader.get_traj(n.time)\n",
    "    \n",
    "    peds = []\n",
    "    for ped_pose in ped_poses:\n",
    "        ped_idx = ped_pose[0]\n",
    "        #print(ped_idx)\n",
    "        temp_pose_x = ped_pose[1] + trajReader.scale.offset_x\n",
    "        temp_pose_y = ped_pose[2] + trajReader.scale.offset_y\n",
    "        peds.append((ped_idx, temp_pose_x,temp_pose_y))\n",
    "        #cv2.circle(curr_frame, (ped_grid_i, ped_grid_j), radius=8, color=[255, 140, 0], thickness=-1)\n",
    "    \n",
    "    pedestrians.append(peds)"
   ]
  },
  {
   "cell_type": "code",
   "execution_count": 14,
   "id": "67ca6310-d040-43f8-9a33-0894b73a999d",
   "metadata": {
    "tags": []
   },
   "outputs": [
    {
     "data": {
      "text/plain": [
       "(67, 67, 67)"
      ]
     },
     "execution_count": 14,
     "metadata": {},
     "output_type": "execute_result"
    }
   ],
   "source": [
    "len(pedestrians), len(traj), len(actions)"
   ]
  },
  {
   "cell_type": "code",
   "execution_count": 15,
   "id": "449b3a32-b5ef-423d-84a7-382106f11e45",
   "metadata": {
    "tags": []
   },
   "outputs": [],
   "source": [
    "scene = {'pedestrians':pedestrians, 'traj':traj, 'actions': actions}"
   ]
  },
  {
   "cell_type": "code",
   "execution_count": 16,
   "id": "751bc9cb-f2e3-4a81-8d0f-cf56ca0d56b2",
   "metadata": {
    "tags": []
   },
   "outputs": [
    {
     "name": "stdout",
     "output_type": "stream",
     "text": [
      "crowds_zara01\n",
      "crowds_zara02\n",
      "crowds_zara03\n"
     ]
    }
   ],
   "source": [
    "\n",
    "data_path = '/Users/sophiasun/Desktop/2cool4school/phd/robotics_project/BiRiskRRT/data/'\n",
    "\n",
    "trajReader01 = TrajReader('crowds_zara01', timeStep, full_traj_path = data_path+'crowds_zara01')\n",
    "trajReader02 = TrajReader('crowds_zara02', timeStep, full_traj_path = data_path+'crowds_zara02')\n",
    "trajReader03 = TrajReader('crowds_zara03', timeStep, full_traj_path = data_path+'crowds_zara03')\n",
    "\n"
   ]
  },
  {
   "cell_type": "code",
   "execution_count": 6,
   "id": "b9955a26-9271-44c6-b70a-3354addc1c19",
   "metadata": {
    "tags": []
   },
   "outputs": [
    {
     "data": {
      "text/plain": [
       "<utils.Node at 0x1035b8fd0>"
      ]
     },
     "execution_count": 6,
     "metadata": {},
     "output_type": "execute_result"
    }
   ],
   "source": [
    "data1[0]"
   ]
  },
  {
   "cell_type": "code",
   "execution_count": 20,
   "id": "c6cef81f-af5f-4565-9c14-85ea653cc612",
   "metadata": {
    "tags": []
   },
   "outputs": [],
   "source": [
    "\n",
    "\n",
    "def make_scene_data(fname):\n",
    "    \n",
    "    trajfile = '../results/dataset/' + fname\n",
    "    with open(trajfile,'rb') as f:\n",
    "        data1 = pickle.load(f)\n",
    "    \n",
    "    \n",
    "    data_name = 'crowds_'+trajfile.split('/')[-1].split('_')[-1][:6]\n",
    "    assert(data_name in ['crowds_zara01', 'crowds_zara02', 'crowds_zara03'])\n",
    "    if data_name == 'crowds_zara01':\n",
    "        trajReader = trajReader01\n",
    "    elif data_name == 'crowds_zara02':\n",
    "        trajReader = trajReader02\n",
    "    elif data_name == 'crowds_zara03':\n",
    "        trajReader = trajReader03\n",
    "    \n",
    "    traj = [] # x, y, theta, vel\n",
    "    actions = [] # x, y, angular velocity\n",
    "    pedestrians = []\n",
    "\n",
    "    map_resolution = 0.054 # meter/pixel\n",
    "    map_name = fname.split('_')[2]\n",
    "\n",
    "    for n in data1:\n",
    "        traj.append( [n.pose.x, n.pose.y, n.pose.theta, n.vel] )\n",
    "        actions.append( [n.vel.linear.x_vel, n.vel.linear.y_vel, n.vel.angular] )\n",
    "\n",
    "        ped_poses = trajReader.get_traj(n.time)\n",
    "\n",
    "        peds = []\n",
    "        for ped_pose in ped_poses:\n",
    "            ped_idx = ped_pose[0]\n",
    "            #print(ped_idx)\n",
    "            temp_pose_x = ped_pose[1] + trajReader.scale.offset_x\n",
    "            temp_pose_y = ped_pose[2] + trajReader.scale.offset_y\n",
    "            peds.append((ped_idx, temp_pose_x,temp_pose_y))\n",
    "            #cv2.circle(curr_frame, (ped_grid_i, ped_grid_j), radius=8, color=[255, 140, 0], thickness=-1)\n",
    "\n",
    "        pedestrians.append(peds)\n",
    "        \n",
    "    scene = {'pedestrians':pedestrians, 'traj':traj, 'actions': actions, \n",
    "             'ogmap': map_name, 'fname':fname}\n",
    "    return scene"
   ]
  },
  {
   "cell_type": "code",
   "execution_count": 21,
   "id": "1e1c0272-8e93-43ec-b348-e6c44f8b0e40",
   "metadata": {
    "tags": []
   },
   "outputs": [
    {
     "name": "stderr",
     "output_type": "stream",
     "text": [
      "100%|████████████████████████████████████████████████████████████████| 900/900 [09:11<00:00,  1.63it/s]\n"
     ]
    }
   ],
   "source": [
    "from tqdm import tqdm\n",
    "\n",
    "scenes = []\n",
    "\n",
    "for f in tqdm(onlyfiles):\n",
    "    s = make_scene_data(f)\n",
    "    scenes.append(s)\n"
   ]
  },
  {
   "cell_type": "code",
   "execution_count": 22,
   "id": "ba78e17b-1ed9-4f14-8f42-1cffac442373",
   "metadata": {
    "tags": []
   },
   "outputs": [],
   "source": [
    "with open('../results/imitation_dataset/all_scenes.pkl', 'wb') as f:\n",
    "    pickle.dump(scenes, f)"
   ]
  },
  {
   "cell_type": "markdown",
   "id": "12e80cf6-517a-4b20-ae54-a0dd855d22dd",
   "metadata": {},
   "source": [
    "# OG map data"
   ]
  },
  {
   "cell_type": "code",
   "execution_count": 7,
   "id": "aedf2e9e-544c-474a-b135-fd5025d47f8d",
   "metadata": {
    "tags": []
   },
   "outputs": [
    {
     "name": "stdout",
     "output_type": "stream",
     "text": [
      "crowds_zara03\n"
     ]
    }
   ],
   "source": [
    "timeStep = 0.4\n",
    "data_path = '/Users/sophiasun/Desktop/2cool4school/phd/robotics_project/BiRiskRRT/data/' + data_name\n",
    "\n",
    "trajReader = TrajReader(data_name, timeStep, full_traj_path = data_path)"
   ]
  },
  {
   "cell_type": "code",
   "execution_count": 11,
   "id": "88969334-d5ca-4d47-a7ce-567a59a7bf86",
   "metadata": {
    "tags": []
   },
   "outputs": [
    {
     "name": "stdout",
     "output_type": "stream",
     "text": [
      "A.png      B.png      C.png      blank.png  map.png    map_.png\n"
     ]
    }
   ],
   "source": [
    "ls /Users/sophiasun/Desktop/2cool4school/phd/robotics_project/BiRiskRRT/maps/"
   ]
  },
  {
   "cell_type": "code",
   "execution_count": 19,
   "id": "d923f83d-529c-4cf9-861c-b42a4d96b683",
   "metadata": {
    "tags": []
   },
   "outputs": [],
   "source": [
    "\n",
    "map_resolution = 0.054 # meter/pixel\n",
    "map_name = 'B'\n",
    "map_path = os.path.join('/Users/sophiasun/Desktop/2cool4school/phd/robotics_project/BiRiskRRT/', 'maps', map_name + '.png')\n",
    "map_im = cv2.imread(map_path)\n",
    "\n"
   ]
  },
  {
   "cell_type": "code",
   "execution_count": 29,
   "id": "ad0af1e2-7633-422d-b0e7-4668b7af1b42",
   "metadata": {
    "tags": []
   },
   "outputs": [],
   "source": [
    "ogmap = OccupancyGrid(map_im, map_resolution)\n",
    "\n",
    "\n",
    "traj = [] # x, y, theta, vel\n",
    "traj_map = []\n",
    "actions = [] # x, y, angular velocity\n",
    "ogmaps = []\n",
    "\n",
    "for n in data1:\n",
    "    traj.append( [n.pose.x, n.pose.y, n.pose.theta, n.vel] )\n",
    "    actions.append( [n.vel.linear.x_vel, n.vel.linear.y_vel, n.vel.angular] )\n",
    "    \n",
    "    traj_map.append([ogmap.gridIFromPose(n.pose), ogmap.gridJFromPose(n.pose)])\n",
    "    \n",
    "    ped_poses = trajReader.get_traj(n.time)\n",
    "    trajReader.update_ogmap(ogmap, n.time)\n",
    "    ogmaps.append(ogmap.grid.copy())\n",
    "    \n",
    "    \n",
    "    #plt.imshow(ogmap.grid.reshape((500,500)))\n"
   ]
  },
  {
   "cell_type": "code",
   "execution_count": 40,
   "id": "c925b905-5106-46b6-84e1-a1275eadb834",
   "metadata": {
    "tags": []
   },
   "outputs": [],
   "source": [
    "\n",
    "\n",
    "def make_ogmap_data(fname):\n",
    "    \n",
    "    trajfile = '../results/dataset/' + fname\n",
    "    with open(trajfile,'rb') as f:\n",
    "        data1 = pickle.load(f)\n",
    "    \n",
    "    data_name = 'crowds_'+trajfile.split('/')[-1].split('_')[-1][:6]\n",
    "    assert(data_name in ['crowds_zara01', 'crowds_zara02', 'crowds_zara03'])\n",
    "    if data_name == 'crowds_zara01':\n",
    "        trajReader = trajReader01\n",
    "    elif data_name == 'crowds_zara02':\n",
    "        trajReader = trajReader02\n",
    "    elif data_name == 'crowds_zara03':\n",
    "        trajReader = trajReader03\n",
    "        \n",
    "    map_resolution = 0.054 # meter/pixel\n",
    "    map_name = fname.split('_')[2]\n",
    "    map_path = os.path.join('/Users/sophiasun/Desktop/2cool4school/phd/robotics_project/BiRiskRRT/', 'maps', map_name + '.png')\n",
    "    map_im = cv2.imread(map_path)\n",
    "\n",
    "    ogmap = OccupancyGrid(map_im, map_resolution)\n",
    "\n",
    "\n",
    "    traj = [] # x, y, theta, vel\n",
    "    traj_map = []\n",
    "    actions = [] # x, y, angular velocity\n",
    "    ogmaps = []\n",
    "\n",
    "    for n in data1:\n",
    "        traj.append( [n.pose.x, n.pose.y, n.pose.theta, n.vel] )\n",
    "        actions.append( [n.vel.linear.x_vel, n.vel.linear.y_vel, n.vel.angular] )\n",
    "\n",
    "        traj_map.append([ogmap.gridIFromPose(n.pose), ogmap.gridJFromPose(n.pose)])\n",
    "\n",
    "        ped_poses = trajReader.get_traj(n.time)\n",
    "        trajReader.update_ogmap(ogmap, n.time)\n",
    "        ogmaps.append(ogmap.grid.copy())\n",
    "\n",
    "\n",
    "    scene = {'ogmaps':ogmaps, 'traj':traj, 'actions': actions}\n",
    "    return scene"
   ]
  },
  {
   "cell_type": "code",
   "execution_count": 41,
   "id": "84c15b38-3506-4130-9967-4d0011dc4f6d",
   "metadata": {
    "tags": []
   },
   "outputs": [
    {
     "name": "stderr",
     "output_type": "stream",
     "text": [
      "100%|████████████████████████████████████████████████████████████████| 900/900 [09:44<00:00,  1.54it/s]\n"
     ]
    }
   ],
   "source": [
    "from tqdm import tqdm\n",
    "\n",
    "scenes = []\n",
    "\n",
    "for f in tqdm(onlyfiles):\n",
    "    s = make_ogmap_data(f)\n",
    "    scenes.append(s)\n"
   ]
  },
  {
   "cell_type": "code",
   "execution_count": null,
   "id": "26a08b31-bc12-4391-baba-e21e5839ed49",
   "metadata": {
    "tags": []
   },
   "outputs": [],
   "source": [
    "with open('../results/imitation_dataset/all_ogmap_scenes.pkl', 'wb') as f:\n",
    "    pickle.dump(scenes, f)"
   ]
  },
  {
   "cell_type": "code",
   "execution_count": 17,
   "id": "0e10bade-3554-4980-a336-c2434e32d9e9",
   "metadata": {
    "tags": []
   },
   "outputs": [
    {
     "data": {
      "text/plain": [
       "<utils.OccupancyGrid at 0x16df4ad60>"
      ]
     },
     "execution_count": 17,
     "metadata": {},
     "output_type": "execute_result"
    }
   ],
   "source": [
    "ogmap"
   ]
  },
  {
   "cell_type": "code",
   "execution_count": 14,
   "id": "b63772cb-8763-4339-a7a3-64bd4da17496",
   "metadata": {
    "tags": []
   },
   "outputs": [
    {
     "ename": "NameError",
     "evalue": "name 'pedestrians' is not defined",
     "output_type": "error",
     "traceback": [
      "\u001b[0;31m---------------------------------------------------------------------------\u001b[0m",
      "\u001b[0;31mNameError\u001b[0m                                 Traceback (most recent call last)",
      "\u001b[0;32m/var/folders/h2/p2n4nzc90zb6lngs5bgtd6sc0000gn/T/ipykernel_3238/2420072709.py\u001b[0m in \u001b[0;36m<module>\u001b[0;34m\u001b[0m\n\u001b[1;32m      2\u001b[0m \u001b[0;32mimport\u001b[0m \u001b[0mmatplotlib\u001b[0m \u001b[0;32mas\u001b[0m \u001b[0mmpl\u001b[0m\u001b[0;34m\u001b[0m\u001b[0;34m\u001b[0m\u001b[0m\n\u001b[1;32m      3\u001b[0m \u001b[0;34m\u001b[0m\u001b[0m\n\u001b[0;32m----> 4\u001b[0;31m \u001b[0mn_peds\u001b[0m \u001b[0;34m=\u001b[0m \u001b[0mmax\u001b[0m\u001b[0;34m(\u001b[0m\u001b[0mmax\u001b[0m\u001b[0;34m(\u001b[0m\u001b[0;34m[\u001b[0m\u001b[0;34m[\u001b[0m\u001b[0ma\u001b[0m\u001b[0;34m[\u001b[0m\u001b[0;36m0\u001b[0m\u001b[0;34m]\u001b[0m \u001b[0;32mfor\u001b[0m \u001b[0ma\u001b[0m \u001b[0;32min\u001b[0m \u001b[0mtime\u001b[0m\u001b[0;34m]\u001b[0m \u001b[0;32mfor\u001b[0m \u001b[0mtime\u001b[0m \u001b[0;32min\u001b[0m \u001b[0mpedestrians\u001b[0m\u001b[0;34m]\u001b[0m\u001b[0;34m)\u001b[0m\u001b[0;34m)\u001b[0m\u001b[0;34m+\u001b[0m\u001b[0;36m1\u001b[0m\u001b[0;34m\u001b[0m\u001b[0;34m\u001b[0m\u001b[0m\n\u001b[0m\u001b[1;32m      5\u001b[0m \u001b[0mcmap\u001b[0m \u001b[0;34m=\u001b[0m \u001b[0mmpl\u001b[0m\u001b[0;34m.\u001b[0m\u001b[0mcolormaps\u001b[0m\u001b[0;34m[\u001b[0m\u001b[0;34m'rainbow'\u001b[0m\u001b[0;34m]\u001b[0m\u001b[0;34m\u001b[0m\u001b[0;34m\u001b[0m\u001b[0m\n\u001b[1;32m      6\u001b[0m \u001b[0;34m\u001b[0m\u001b[0m\n",
      "\u001b[0;31mNameError\u001b[0m: name 'pedestrians' is not defined"
     ]
    }
   ],
   "source": [
    "import matplotlib.pyplot as plt\n",
    "import matplotlib as mpl\n",
    "\n",
    "n_peds = max(max([[a[0] for a in time] for time in pedestrians]))+1\n",
    "cmap = mpl.colormaps['rainbow']\n",
    "\n",
    "# Take colors at regular intervals spanning the colormap.\n",
    "colors = cmap(np.linspace(0, 1, n_peds))\n",
    "\n",
    "fig, ax = plt.subplots(layout='constrained')\n",
    "\n",
    "for i, color in enumerate(colors):\n",
    "    ax.plot([0, i], color=color)\n",
    "\n",
    "plt.show()"
   ]
  },
  {
   "cell_type": "code",
   "execution_count": 215,
   "id": "b09992ed-9008-4e21-9760-e55775d0368f",
   "metadata": {
    "tags": []
   },
   "outputs": [
    {
     "data": {
      "text/plain": [
       "<matplotlib.image.AxesImage at 0x2970be3d0>"
      ]
     },
     "execution_count": 215,
     "metadata": {},
     "output_type": "execute_result"
    },
    {
     "data": {
      "image/png": "[encoded data removed]",
      "text/plain": [
       "<Figure size 432x288 with 1 Axes>"
      ]
     },
     "metadata": {
      "needs_background": "light"
     },
     "output_type": "display_data"
    }
   ],
   "source": [
    "from utils import OccupancyGrid\n",
    "\n",
    "map_path = '../maps/B.png'\n",
    "mapp = cv2.imread(map_path)\n",
    "\n",
    "map_resolution = 0.054 # meter/pixel\n",
    "\n",
    "ogmap = OccupancyGrid(mapp, map_resolution)\n",
    "\n",
    "\n",
    "plt.imshow(mapp) "
   ]
  },
  {
   "cell_type": "code",
   "execution_count": null,
   "id": "c6b4f817-487e-4371-8ddf-411d279ca290",
   "metadata": {},
   "outputs": [],
   "source": []
  },
  {
   "cell_type": "code",
   "execution_count": 216,
   "id": "191c81be-f3a8-42e0-aa0c-fa6a694410b8",
   "metadata": {
    "tags": []
   },
   "outputs": [
    {
     "data": {
      "text/plain": [
       "<matplotlib.image.AxesImage at 0x299721700>"
      ]
     },
     "execution_count": 216,
     "metadata": {},
     "output_type": "execute_result"
    },
    {
     "data": {
      "image/png": "[encoded data removed]",
      "text/plain": [
       "<Figure size 640x480 with 1 Axes>"
      ]
     },
     "metadata": {
      "needs_background": "light"
     },
     "output_type": "display_data"
    }
   ],
   "source": [
    "def getI(x, ogmap = ogmap):\n",
    "        return abs(int(round((x + ogmap.origin_offset_x) / ogmap.resolution)))\n",
    "\n",
    "def getJ(y, ogmap = ogmap):\n",
    "        return abs(int(round((y + ogmap.origin_offset_y) / ogmap.resolution)))\n",
    "    \n",
    "    \n",
    "from matplotlib.pyplot import figure\n",
    "\n",
    "figure(figsize=(8, 6), dpi=80)\n",
    "\n",
    "plt.plot([getI(a[0]) for a in traj], [getJ(a[1])  for a in traj])\n",
    "\n",
    "for t, data in enumerate(pedestrians):\n",
    "    for pos in data:\n",
    "        plt.scatter(getI(pos[1]) , getJ(pos[2]), color = colors[pos[0]] , alpha = 1.0-t/len(traj))\n",
    "        \n",
    "plt.imshow(mapp) \n"
   ]
  },
  {
   "cell_type": "code",
   "execution_count": 219,
   "id": "0094725c-e3f6-466e-8f34-b483a09a9ee4",
   "metadata": {
    "tags": []
   },
   "outputs": [
    {
     "data": {
      "image/png": "[encoded data removed]",
      "text/plain": [
       "<Figure size 640x640 with 1 Axes>"
      ]
     },
     "metadata": {
      "needs_background": "light"
     },
     "output_type": "display_data"
    },
    {
     "data": {
      "image/png": "[encoded data removed]",
      "text/plain": [
       "<Figure size 640x640 with 1 Axes>"
      ]
     },
     "metadata": {
      "needs_background": "light"
     },
     "output_type": "display_data"
    },
    {
     "data": {
      "image/png": "[encoded data removed]",
      "text/plain": [
       "<Figure size 640x640 with 1 Axes>"
      ]
     },
     "metadata": {
      "needs_background": "light"
     },
     "output_type": "display_data"
    },
    {
     "data": {
      "image/png": "[encoded data removed]",
      "text/plain": [
       "<Figure size 640x640 with 1 Axes>"
      ]
     },
     "metadata": {
      "needs_background": "light"
     },
     "output_type": "display_data"
    },
    {
     "data": {
      "image/png": "[encoded data removed]",
      "text/plain": [
       "<Figure size 640x640 with 1 Axes>"
      ]
     },
     "metadata": {
      "needs_background": "light"
     },
     "output_type": "display_data"
    },
    {
     "data": {
      "image/png": "[encoded data removed]",
      "text/plain": [
       "<Figure size 640x640 with 1 Axes>"
      ]
     },
     "metadata": {
      "needs_background": "light"
     },
     "output_type": "display_data"
    }
   ],
   "source": [
    "for timerange in list(range(20, len(traj), 10))+[len(traj)]:\n",
    "    \n",
    "    figure(figsize=(8, 8), dpi=80)\n",
    "\n",
    "    plt.plot([getI(a[0]) for a in traj[:timerange]], [getJ(a[1])  for a in traj[:timerange]])\n",
    "\n",
    "    for t, data in enumerate(pedestrians[timerange-15:timerange]):\n",
    "        for pos in data:\n",
    "            plt.scatter(getI(pos[1]) , getJ(pos[2]), color = colors[pos[0]] , alpha = t/20.0)\n",
    "\n",
    "    plt.imshow(mapp) "
   ]
  },
  {
   "cell_type": "code",
   "execution_count": 225,
   "id": "b16156fd-abfb-4623-8611-00238010377c",
   "metadata": {
    "tags": []
   },
   "outputs": [],
   "source": [
    "trajnp = np.array(traj)\n",
    "trajnp.shape\n",
    "\n",
    "total_len = 0\n",
    "for i in range(trajnp.shape[0]-1):\n",
    "    total_len += np.linalg.norm(trajnp[i+1, [0,1]] - trajnp[i, [0,1]])"
   ]
  },
  {
   "cell_type": "code",
   "execution_count": 226,
   "id": "4b3c05a1-1749-4886-8b78-4a6b09a104a7",
   "metadata": {
    "tags": []
   },
   "outputs": [
    {
     "data": {
      "text/plain": [
       "41.63513534565345"
      ]
     },
     "execution_count": 226,
     "metadata": {},
     "output_type": "execute_result"
    }
   ],
   "source": [
    "total_len"
   ]
  },
  {
   "cell_type": "code",
   "execution_count": 218,
   "id": "51b2b3de-95be-4d16-a8ae-d56979cb954c",
   "metadata": {
    "tags": []
   },
   "outputs": [
    {
     "data": {
      "text/plain": [
       "[<matplotlib.lines.Line2D at 0x2a53f66d0>]"
      ]
     },
     "execution_count": 218,
     "metadata": {},
     "output_type": "execute_result"
    },
    {
     "data": {
      "image/png": "[encoded data removed]",
      "text/plain": [
       "<Figure size 432x288 with 1 Axes>"
      ]
     },
     "metadata": {
      "needs_background": "light"
     },
     "output_type": "display_data"
    }
   ],
   "source": [
    "plt.plot([a[0] for a in traj], [a[1] for a in traj])"
   ]
  },
  {
   "cell_type": "code",
   "execution_count": 56,
   "id": "a939a714-b46c-476a-a2fe-7ac608fdb7bc",
   "metadata": {
    "tags": []
   },
   "outputs": [],
   "source": [
    "from biriskrrt import BiRiskRRT, BiRiskRRTPed, TrajReader\n",
    "from param import BiParams\n",
    "from utils import OccupancyGrid, generateSimulationVideo\n",
    "import cv2\n",
    "import time\n",
    "import numpy as np\n",
    "import os\n",
    "import pickle\n"
   ]
  },
  {
   "cell_type": "code",
   "execution_count": 40,
   "id": "174e37d3-5dc7-4c8c-b906-94614ec10431",
   "metadata": {
    "tags": []
   },
   "outputs": [
    {
     "data": {
      "text/plain": [
       "'/Users/sophiasun/Desktop/2cool4school/phd/robotics_project/BiRiskRRT/notebooks/data/../../data/crowds_zara03/'"
      ]
     },
     "execution_count": 40,
     "metadata": {},
     "output_type": "execute_result"
    }
   ],
   "source": [
    "data_name = '../../data/crowds_zara03'\n",
    "\n",
    "a = os.path.join(os.getcwd(), 'data/{}/'.format(data_name))\n",
    "a "
   ]
  },
  {
   "cell_type": "code",
   "execution_count": null,
   "id": "a39ae122-28b9-44a7-86fc-f1aa161217c2",
   "metadata": {},
   "outputs": [],
   "source": []
  },
  {
   "cell_type": "code",
   "execution_count": 73,
   "id": "bea4cc7d-1fc5-47a6-a281-9e0b75c44d40",
   "metadata": {
    "tags": []
   },
   "outputs": [
    {
     "name": "stdout",
     "output_type": "stream",
     "text": [
      "zara03\n"
     ]
    }
   ],
   "source": [
    "# from params\n",
    "timeStep = 0.4\n",
    "data_name = 'zara03'\n",
    "data_path = '/Users/sophiasun/Desktop/2cool4school/phd/robotics_project/BiRiskRRT/data/crowds_' + data_name\n",
    "\n",
    "traj_others = TrajReader(data_name, timeStep, full_traj_path = data_path)"
   ]
  },
  {
   "cell_type": "code",
   "execution_count": null,
   "id": "cd38e570-c5aa-4b9e-b3f9-50d236ee6110",
   "metadata": {},
   "outputs": [],
   "source": []
  },
  {
   "cell_type": "code",
   "execution_count": 74,
   "id": "5cd8aed3-2044-4880-9adb-28939966a2a1",
   "metadata": {
    "tags": []
   },
   "outputs": [],
   "source": [
    "t = 0\n",
    "traj_ls = []\n",
    "while t < 35:\n",
    "    a = traj_others.get_traj(t)\n",
    "    traj_ls.append(a)\n",
    "    t += timeStep"
   ]
  },
  {
   "cell_type": "code",
   "execution_count": 75,
   "id": "27c41ccb-be67-44fe-818f-622aa0f317ff",
   "metadata": {
    "tags": []
   },
   "outputs": [
    {
     "data": {
      "text/plain": [
       "88"
      ]
     },
     "execution_count": 75,
     "metadata": {},
     "output_type": "execute_result"
    }
   ],
   "source": [
    "len(traj_ls)"
   ]
  },
  {
   "cell_type": "code",
   "execution_count": 76,
   "id": "09d47083-593d-4380-ac67-b8954198b733",
   "metadata": {
    "tags": []
   },
   "outputs": [
    {
     "ename": "ValueError",
     "evalue": "too many values to unpack (expected 2)",
     "output_type": "error",
     "traceback": [
      "\u001b[0;31m---------------------------------------------------------------------------\u001b[0m",
      "\u001b[0;31mValueError\u001b[0m                                Traceback (most recent call last)",
      "\u001b[0;32m/var/folders/h2/p2n4nzc90zb6lngs5bgtd6sc0000gn/T/ipykernel_29919/1127979201.py\u001b[0m in \u001b[0;36m<module>\u001b[0;34m\u001b[0m\n\u001b[1;32m      1\u001b[0m \u001b[0mpot\u001b[0m \u001b[0;34m=\u001b[0m \u001b[0;34m(\u001b[0m\u001b[0;36m3\u001b[0m\u001b[0;34m,\u001b[0m\u001b[0;36m4\u001b[0m\u001b[0;34m,\u001b[0m\u001b[0;36m45\u001b[0m\u001b[0;34m,\u001b[0m\u001b[0;36m6\u001b[0m\u001b[0;34m)\u001b[0m\u001b[0;34m\u001b[0m\u001b[0;34m\u001b[0m\u001b[0m\n\u001b[0;32m----> 2\u001b[0;31m \u001b[0ma\u001b[0m\u001b[0;34m,\u001b[0m\u001b[0m_\u001b[0m \u001b[0;34m=\u001b[0m \u001b[0mpot\u001b[0m\u001b[0;34m\u001b[0m\u001b[0;34m\u001b[0m\u001b[0m\n\u001b[0m\u001b[1;32m      3\u001b[0m \u001b[0ma\u001b[0m\u001b[0;34m\u001b[0m\u001b[0;34m\u001b[0m\u001b[0m\n",
      "\u001b[0;31mValueError\u001b[0m: too many values to unpack (expected 2)"
     ]
    }
   ],
   "source": [
    "pot = (3,4,45,6)\n",
    "a,_ = pot\n",
    "a"
   ]
  },
  {
   "cell_type": "code",
   "execution_count": null,
   "id": "60eea7ed-bebe-4013-8ca0-63ce571b3b56",
   "metadata": {
    "tags": []
   },
   "outputs": [],
   "source": [
    "#num agents\n",
    "agents = []\n",
    "for i in traj_ls:\n",
    "    for ag, x, y, _, _, _ in i:\n",
    "        if ag not in agents:\n",
    "            agnets.append(ag)\n",
    "        else"
   ]
  },
  {
   "cell_type": "code",
   "execution_count": 63,
   "id": "86f3308d-080d-41c3-b10d-0fdb41d6e301",
   "metadata": {
    "tags": []
   },
   "outputs": [
    {
     "data": {
      "text/plain": [
       "[[1,\n",
       "  array(12.77523215),\n",
       "  array(7.27912389),\n",
       "  array(0.),\n",
       "  array(-0.88921509),\n",
       "  array(-0.20584408)],\n",
       " [2,\n",
       "  array(12.37534845),\n",
       "  array(7.92350535),\n",
       "  array(0.),\n",
       "  array(-0.3914651),\n",
       "  array(-0.33651032)],\n",
       " [3,\n",
       "  array(9.38674389),\n",
       "  array(7.06433007),\n",
       "  array(0.),\n",
       "  array(1.05232555),\n",
       "  array(-0.5966495)],\n",
       " [4,\n",
       "  array(7.89244161),\n",
       "  array(6.53927851),\n",
       "  array(0.),\n",
       "  array(-1.32540403),\n",
       "  array(0.57457347)],\n",
       " [5,\n",
       "  array(5.766744),\n",
       "  array(7.18365997),\n",
       "  array(0.),\n",
       "  array(-1.16071508),\n",
       "  array(0.1229098)],\n",
       " [6,\n",
       "  array(6.58755793),\n",
       "  array(6.41994861),\n",
       "  array(0.),\n",
       "  array(-1.47641274),\n",
       "  array(0.07696779)],\n",
       " [7,\n",
       "  array(7.32418581),\n",
       "  array(5.91876303),\n",
       "  array(0.),\n",
       "  array(1.53060751),\n",
       "  array(0.12648969)],\n",
       " [8,\n",
       "  array(7.02953466),\n",
       "  array(4.58226815),\n",
       "  array(0.),\n",
       "  array(1.26279066),\n",
       "  array(-0.13663274)],\n",
       " [9,\n",
       "  array(7.02953466),\n",
       "  array(5.17891765),\n",
       "  array(0.),\n",
       "  array(1.06547962),\n",
       "  array(0.)]]"
      ]
     },
     "execution_count": 63,
     "metadata": {},
     "output_type": "execute_result"
    }
   ],
   "source": [
    "#id, x, y, theta, x_vel, y_vel\n",
    "#id, x, y, theta, w, h, uncertainty\n",
    "\n",
    "traj_ls[0]\n"
   ]
  },
  {
   "cell_type": "code",
   "execution_count": null,
   "id": "7928f1bc-339b-4463-afcf-db5dfbf8a3e5",
   "metadata": {},
   "outputs": [],
   "source": [
    "from os import listdir\n",
    "from os.path import isfile, join\n",
    "onlyfiles = [f for f in listdir(mypath) if isfile(join(mypath, f))]"
   ]
  },
  {
   "cell_type": "code",
   "execution_count": 33,
   "id": "dbd84b38-dd3b-4d32-8a2f-aef3c4c58b91",
   "metadata": {
    "tags": []
   },
   "outputs": [
    {
     "data": {
      "text/plain": [
       "[[0.0, 0.0, 0.0],\n",
       " [0.06666666666666665, 0.0, 0.12],\n",
       " [0.1333333333333333, 0.0, 0.07999999999999999],\n",
       " [0.19999999999999996, 0.0, 0.03999999999999998],\n",
       " [0.2666666666666666, 0.0, 0.15999999999999998],\n",
       " [0.33333333333333326, 0.0, 0.27999999999999997],\n",
       " [0.3999999999999999, 0.0, 0.07999999999999996],\n",
       " [0.46666666666666656, 0.0, -0.04000000000000005],\n",
       " [0.5333333333333332, 0.0, 0.07999999999999996],\n",
       " [0.5999999999999999, 0.0, 0.19999999999999996],\n",
       " [0.6666666666666665, 0.0, 0.23999999999999994],\n",
       " [0.7333333333333332, 0.0, 0.35999999999999993],\n",
       " [0.7999999999999998, 0.0, 0.3999999999999999],\n",
       " [0.8666666666666665, 0.0, 0.1999999999999999],\n",
       " [0.9333333333333331, 0.0, -1.1102230246251565e-16],\n",
       " [0.9999999999999998, 0.0, -0.04000000000000012],\n",
       " [1.0666666666666664, 0.0, -0.16000000000000014],\n",
       " [1.133333333333333, 0.0, -0.04000000000000015],\n",
       " [1.1999999999999997, 0.0, 0.07999999999999985],\n",
       " [1.2666666666666664, 0.0, -0.12000000000000016],\n",
       " [1.333333333333333, 0.0, -1.6653345369377348e-16],\n",
       " [1.133333333333333, 0.0, 0.039999999999999813],\n",
       " [1.1999999999999997, 0.0, 0.1599999999999998],\n",
       " [1.2666666666666664, 0.0, 0.2799999999999998],\n",
       " [1.333333333333333, 0.0, 0.3999999999999998],\n",
       " [1.3999999999999997, 0.0, 0.2799999999999998],\n",
       " [1.4666666666666663, 0.0, 0.0799999999999998],\n",
       " [1.533333333333333, 0.0, 0.1999999999999998],\n",
       " [1.5999999999999996, 0.0, 0.23999999999999977],\n",
       " [1.6666666666666663, 0.0, 0.03999999999999976],\n",
       " [1.4666666666666663, 0.0, 0.15999999999999975],\n",
       " [1.533333333333333, 0.0, 0.27999999999999975],\n",
       " [1.5999999999999996, 0.0, 0.07999999999999974],\n",
       " [1.6666666666666663, 0.0, -0.12000000000000027],\n",
       " [1.733333333333333, 0.0, -0.3200000000000003],\n",
       " [1.7999999999999996, 0.0, -0.2000000000000003],\n",
       " [1.8666666666666663, 0.0, -0.1600000000000003],\n",
       " [1.9333333333333331, 0.0, -0.04000000000000031],\n",
       " [2.0, 0.0, 0.07999999999999968],\n",
       " [2.066666666666667, 0.0, -0.04000000000000033],\n",
       " [2.1333333333333337, 0.0, -3.3306690738754696e-16],\n",
       " [1.9333333333333338, 0.0, 0.11999999999999966],\n",
       " [2.0000000000000004, 0.0, 0.23999999999999966],\n",
       " [2.0666666666666673, 0.0, 0.35999999999999965],\n",
       " [1.8666666666666674, 0.0, 0.4799999999999996],\n",
       " [1.8000000000000007, 0.0, 0.2799999999999996],\n",
       " [1.6000000000000008, 0.0, 0.3999999999999996],\n",
       " [1.6666666666666674, 0.0, 0.5199999999999996],\n",
       " [1.733333333333334, 0.0, 0.31999999999999956],\n",
       " [1.8000000000000007, 0.0, 0.11999999999999955],\n",
       " [1.8666666666666676, 0.0, 0.23999999999999955],\n",
       " [1.6666666666666676, 0.0, 0.35999999999999954],\n",
       " [1.600000000000001, 0.0, 0.15999999999999953],\n",
       " [1.6666666666666676, 0.0, 0.11999999999999952],\n",
       " [1.7333333333333343, 0.0, 0.23999999999999952],\n",
       " [1.5333333333333343, 0.0, 0.35999999999999954],\n",
       " [1.600000000000001, 0.0, 0.15999999999999953],\n",
       " [1.6666666666666676, 0.0, 0.11999999999999952]]"
      ]
     },
     "execution_count": 33,
     "metadata": {},
     "output_type": "execute_result"
    }
   ],
   "source": [
    "# do we consider actions?\n",
    "actions"
   ]
  },
  {
   "cell_type": "code",
   "execution_count": 23,
   "id": "897c9368-7b4d-4eea-8b7e-22a36d018cb1",
   "metadata": {
    "collapsed": true,
    "jupyter": {
     "outputs_hidden": true
    },
    "tags": []
   },
   "outputs": [
    {
     "data": {
      "text/plain": [
       "[[0.0, -11.5, 0.0, <utils.Twist at 0x106191af0>],\n",
       " [0.026656427846249955,\n",
       "  -11.499360122870563,\n",
       "  0.048,\n",
       "  <utils.Twist at 0x12e0fce80>],\n",
       " [0.07987830092278789,\n",
       "  -11.495949264763238,\n",
       "  0.07999999999999999,\n",
       "  <utils.Twist at 0x12e106dc0>],\n",
       " [0.15956789074100963,\n",
       "  -11.488918422535217,\n",
       "  0.09599999999999997,\n",
       "  <utils.Twist at 0x13e274af0>],\n",
       " [0.2653438818767245, -11.475304665066236, 0.16, <utils.Twist at 0x13e279ee0>],\n",
       " [0.3955108308286218, -11.44674302569883, 0.272, <utils.Twist at 0x13e2830d0>],\n",
       " [0.548914503504889, -11.401299338011063, 0.304, <utils.Twist at 0x13e283dc0>],\n",
       " [0.7274613048268734, -11.34684990421853, 0.288, <utils.Twist at 0x13e28b0d0>],\n",
       " [0.9310039307529332,\n",
       "  -11.28299360413797,\n",
       "  0.3199999999999999,\n",
       "  <utils.Twist at 0x13e2905e0>],\n",
       " [1.1555592758305315,\n",
       "  -11.198470331899301,\n",
       "  0.3999999999999999,\n",
       "  <utils.Twist at 0x13e294790>],\n",
       " [1.395817720301835,\n",
       "  -11.083004343779585,\n",
       "  0.49599999999999994,\n",
       "  <utils.Twist at 0x13e299820>],\n",
       " [1.642877840576797,\n",
       "  -10.925342809640615,\n",
       "  0.6399999999999999,\n",
       "  <utils.Twist at 0x13e29eaf0>],\n",
       " [1.8831991396510583,\n",
       "  -10.71456471256636,\n",
       "  0.7999999999999997,\n",
       "  <utils.Twist at 0x13e2a3b80>],\n",
       " [2.114524554315327,\n",
       "  -10.456490596922492,\n",
       "  0.8799999999999996,\n",
       "  <utils.Twist at 0x13e2a79d0>],\n",
       " [2.3523943148161304,\n",
       "  -10.168748082133543,\n",
       "  0.8799999999999996,\n",
       "  <utils.Twist at 0x13e2abb80>],\n",
       " [2.609710210385707,\n",
       "  -9.862504524514742,\n",
       "  0.8639999999999994,\n",
       "  <utils.Twist at 0x13e2b0f70>],\n",
       " [2.896977891563463,\n",
       "  -9.54713237222252,\n",
       "  0.7999999999999993,\n",
       "  <utils.Twist at 0x13e2b9040>],\n",
       " [3.2154063467064313,\n",
       "  -9.22447148852766,\n",
       "  0.7839999999999993,\n",
       "  <utils.Twist at 0x13e2be550>],\n",
       " [3.5498112988223003,\n",
       "  -8.880155256160583,\n",
       "  0.8159999999999992,\n",
       "  <utils.Twist at 0x13e2c3700>],\n",
       " [3.905671556472985,\n",
       "  -8.519565040836081,\n",
       "  0.7679999999999992,\n",
       "  <utils.Twist at 0x13e2c6430>],\n",
       " [4.289299024920536,\n",
       "  -8.14905942698257,\n",
       "  0.7679999999999992,\n",
       "  <utils.Twist at 0x13e2cba60>],\n",
       " [4.612849075962867,\n",
       "  -7.8315344809043275,\n",
       "  0.7839999999999991,\n",
       "  <utils.Twist at 0x13e31aa60>],\n",
       " [4.9416603081627795,\n",
       "  -7.481956819839139,\n",
       "  0.847999999999999,\n",
       "  <utils.Twist at 0x13e33e250>],\n",
       " [5.254855544239767,\n",
       "  -7.0840226309225445,\n",
       "  0.9599999999999987,\n",
       "  <utils.Twist at 0x13e342400>],\n",
       " [5.524551790491457,\n",
       "  -6.6245641649367295,\n",
       "  1.1199999999999988,\n",
       "  <utils.Twist at 0x13e3475b0>],\n",
       " [5.739826539425536,\n",
       "  -6.107912345063466,\n",
       "  1.2319999999999987,\n",
       "  <utils.Twist at 0x13e34c400>],\n",
       " [5.925920823003793,\n",
       "  -5.551569531177361,\n",
       "  1.2639999999999985,\n",
       "  <utils.Twist at 0x13e350490>],\n",
       " [6.087578418849416,\n",
       "  -4.96009339968022,\n",
       "  1.3439999999999983,\n",
       "  <utils.Twist at 0x13e354ac0>],\n",
       " [6.201355655990157,\n",
       "  -4.330537791231307,\n",
       "  1.4399999999999982,\n",
       "  <utils.Twist at 0x13e42fa00>],\n",
       " [6.283013420314412,\n",
       "  -3.6688981819503663,\n",
       "  1.4559999999999982,\n",
       "  <utils.Twist at 0x13e435850>],\n",
       " [6.331523506848796,\n",
       "  -3.0843410111169822,\n",
       "  1.519999999999998,\n",
       "  <utils.Twist at 0x13e439340>],\n",
       " [6.328333602886723,\n",
       "  -2.4713364960387043,\n",
       "  1.631999999999998,\n",
       "  <utils.Twist at 0x13e4cc310>],\n",
       " [6.278974427765255,\n",
       "  -1.8332701041240234,\n",
       "  1.6639999999999977,\n",
       "  <utils.Twist at 0x13e4d0040>],\n",
       " [6.232879887369143,\n",
       "  -1.168263028214216,\n",
       "  1.6159999999999977,\n",
       "  <utils.Twist at 0x13e6147c0>],\n",
       " [6.245902345666772,\n",
       "  -0.47552530430521245,\n",
       "  1.4879999999999975,\n",
       "  <utils.Twist at 0x13e619970>],\n",
       " [6.334070156035801,\n",
       "  0.23886255686712776,\n",
       "  1.4079999999999975,\n",
       "  <utils.Twist at 0x13e61dfa0>],\n",
       " [6.478575306850229,\n",
       "  0.9712825875553149,\n",
       "  1.3439999999999974,\n",
       "  <utils.Twist at 0x13e627070>],\n",
       " [6.6584854481029385,\n",
       "  1.723388981190061,\n",
       "  1.3279999999999972,\n",
       "  <utils.Twist at 0x13e62b340>],\n",
       " [6.838363413084928,\n",
       "  2.5028691324734056,\n",
       "  1.359999999999997,\n",
       "  <utils.Twist at 0x13e62f4f0>],\n",
       " [7.017793470179868,\n",
       "  3.3098189783666703,\n",
       "  1.3439999999999968,\n",
       "  <utils.Twist at 0x13e634340>],\n",
       " [7.209671486184549,\n",
       "  4.1412999491362275,\n",
       "  1.3439999999999965,\n",
       "  <utils.Twist at 0x13e639730>],\n",
       " [7.36541293321475,\n",
       "  4.898712802477265,\n",
       "  1.3919999999999964,\n",
       "  <utils.Twist at 0x13e639e80>],\n",
       " [7.469711838657314,\n",
       "  5.6915749401112805,\n",
       "  1.4879999999999962,\n",
       "  <utils.Twist at 0x13e642bb0>],\n",
       " [7.478628919738619,\n",
       "  6.517479415557834,\n",
       "  1.6319999999999961,\n",
       "  <utils.Twist at 0x13e647d60>],\n",
       " [7.361912512762909,\n",
       "  7.253806666492917,\n",
       "  1.8239999999999958,\n",
       "  <utils.Twist at 0x13e64c3d0>],\n",
       " [7.142930885885713,\n",
       "  7.939303109099482,\n",
       "  1.9359999999999957,\n",
       "  <utils.Twist at 0x13e64f6a0>],\n",
       " [6.867614082818672,\n",
       "  8.516301887199473,\n",
       "  2.0959999999999956,\n",
       "  <utils.Twist at 0x13e6cb100>],\n",
       " [6.475986869832358,\n",
       "  9.05432838205818,\n",
       "  2.3039999999999954,\n",
       "  <utils.Twist at 0x13e6d0df0>],\n",
       " [5.980311231569985,\n",
       "  9.538436634600863,\n",
       "  2.431999999999995,\n",
       "  <utils.Twist at 0x13e6d5b20>],\n",
       " [5.423053084217989,\n",
       "  9.994247814864826,\n",
       "  2.479999999999995,\n",
       "  <utils.Twist at 0x13e7fe220>],\n",
       " [4.812824293429026,\n",
       "  10.424019727606627,\n",
       "  2.5759999999999947,\n",
       "  <utils.Twist at 0x13e802850>],\n",
       " [4.22624049367652,\n",
       "  10.739608734001715,\n",
       "  2.7199999999999944,\n",
       "  <utils.Twist at 0x13e823940>],\n",
       " [3.6343006651819993,\n",
       "  10.98264669069962,\n",
       "  2.783999999999994,\n",
       "  <utils.Twist at 0x13e827c10>],\n",
       " [3.0044464243658506,\n",
       "  11.200918890006712,\n",
       "  2.8319999999999936,\n",
       "  <utils.Twist at 0x13e8305e0>],\n",
       " [2.3349579204762754,\n",
       "  11.38015945888774,\n",
       "  2.9279999999999933,\n",
       "  <utils.Twist at 0x13e8349d0>],\n",
       " [1.728287003421236,\n",
       "  11.46663830089764,\n",
       "  3.071999999999993,\n",
       "  <utils.Twist at 0x13e83a040>],\n",
       " [1.0888483205069732,\n",
       "  11.490687827855302,\n",
       "  3.1359999999999926,\n",
       "  <utils.Twist at 0x13e848c10>],\n",
       " [0.4223585814334446,\n",
       "  11.478418134536323,\n",
       "  -3.0991853071795945,\n",
       "  <utils.Twist at 0x13e84f040>]]"
      ]
     },
     "execution_count": 23,
     "metadata": {},
     "output_type": "execute_result"
    }
   ],
   "source": [
    "traj"
   ]
  },
  {
   "cell_type": "code",
   "execution_count": 7,
   "id": "33ac336d-810c-43fe-b187-ed24d256546b",
   "metadata": {
    "tags": []
   },
   "outputs": [
    {
     "ename": "NameError",
     "evalue": "name 'data1' is not defined",
     "output_type": "error",
     "traceback": [
      "\u001b[0;31m---------------------------------------------------------------------------\u001b[0m",
      "\u001b[0;31mNameError\u001b[0m                                 Traceback (most recent call last)",
      "\u001b[0;32m/var/folders/h2/p2n4nzc90zb6lngs5bgtd6sc0000gn/T/ipykernel_29919/3346467146.py\u001b[0m in \u001b[0;36m<module>\u001b[0;34m\u001b[0m\n\u001b[0;32m----> 1\u001b[0;31m \u001b[0mdata1\u001b[0m\u001b[0;34m[\u001b[0m\u001b[0;36m0\u001b[0m\u001b[0;34m]\u001b[0m\u001b[0;34m.\u001b[0m\u001b[0mvel\u001b[0m\u001b[0;34m.\u001b[0m\u001b[0mlinear\u001b[0m\u001b[0;34m.\u001b[0m\u001b[0mx_vel\u001b[0m\u001b[0;34m\u001b[0m\u001b[0;34m\u001b[0m\u001b[0m\n\u001b[0m\u001b[1;32m      2\u001b[0m \u001b[0mdata1\u001b[0m\u001b[0;34m[\u001b[0m\u001b[0;36m0\u001b[0m\u001b[0;34m]\u001b[0m\u001b[0;34m.\u001b[0m\u001b[0mvel\u001b[0m\u001b[0;34m.\u001b[0m\u001b[0mlinear\u001b[0m\u001b[0;34m.\u001b[0m\u001b[0my_vel\u001b[0m\u001b[0;34m\u001b[0m\u001b[0;34m\u001b[0m\u001b[0m\n\u001b[1;32m      3\u001b[0m \u001b[0mdata1\u001b[0m\u001b[0;34m[\u001b[0m\u001b[0;36m0\u001b[0m\u001b[0;34m]\u001b[0m\u001b[0;34m.\u001b[0m\u001b[0mvel\u001b[0m\u001b[0;34m.\u001b[0m\u001b[0mangular\u001b[0m\u001b[0;34m\u001b[0m\u001b[0;34m\u001b[0m\u001b[0m\n",
      "\u001b[0;31mNameError\u001b[0m: name 'data1' is not defined"
     ]
    }
   ],
   "source": [
    "data1[0].vel.linear.x_vel\n",
    "data1[0].vel.linear.y_vel\n",
    "data1[0].vel.angular\n"
   ]
  }
 ],
 "metadata": {
  "kernelspec": {
   "display_name": "py3",
   "language": "python",
   "name": "py3"
  },
  "language_info": {
   "codemirror_mode": {
    "name": "ipython",
    "version": 3
   },
   "file_extension": ".py",
   "mimetype": "text/x-python",
   "name": "python",
   "nbconvert_exporter": "python",
   "pygments_lexer": "ipython3",
   "version": "3.8.12"
  }
 },
 "nbformat": 4,
 "nbformat_minor": 5
}
